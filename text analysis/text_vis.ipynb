{
 "cells": [
  {
   "cell_type": "code",
   "execution_count": 9,
   "id": "f9c96372",
   "metadata": {},
   "outputs": [],
   "source": [
    "# 必要なパッケージをインポート\n",
    "import numpy as np\n",
    "import pandas as pd\n",
    "import matplotlib.pyplot as plt\n",
    "import seaborn as sns\n",
    "import japanize_matplotlib"
   ]
  },
  {
   "cell_type": "code",
   "execution_count": 12,
   "id": "9dba9fb9",
   "metadata": {},
   "outputs": [],
   "source": [
    "from janome.tokenizer import Tokenizer\n",
    "import networkx as nx\n",
    "import itertools"
   ]
  },
  {
   "cell_type": "code",
   "execution_count": null,
   "id": "0d7bd714",
   "metadata": {},
   "outputs": [],
   "source": [
    "# data_less = data.head(5)\n",
    "# data_less.to_excel(\"test_ questionnaire_less.xlsx\")"
   ]
  },
  {
   "cell_type": "code",
   "execution_count": 10,
   "id": "81897aa9",
   "metadata": {},
   "outputs": [
    {
     "name": "stdout",
     "output_type": "stream",
     "text": [
      "(100, 2)\n"
     ]
    },
    {
     "data": {
      "text/html": [
       "<div>\n",
       "<style scoped>\n",
       "    .dataframe tbody tr th:only-of-type {\n",
       "        vertical-align: middle;\n",
       "    }\n",
       "\n",
       "    .dataframe tbody tr th {\n",
       "        vertical-align: top;\n",
       "    }\n",
       "\n",
       "    .dataframe thead th {\n",
       "        text-align: right;\n",
       "    }\n",
       "</style>\n",
       "<table border=\"1\" class=\"dataframe\">\n",
       "  <thead>\n",
       "    <tr style=\"text-align: right;\">\n",
       "      <th></th>\n",
       "      <th>番号</th>\n",
       "      <th>感想</th>\n",
       "    </tr>\n",
       "  </thead>\n",
       "  <tbody>\n",
       "    <tr>\n",
       "      <th>0</th>\n",
       "      <td>1</td>\n",
       "      <td>「アベンジャーズ」は、キャラクターたちの結集とアクションシーンが素晴らしく、見応えがあった。</td>\n",
       "    </tr>\n",
       "    <tr>\n",
       "      <th>1</th>\n",
       "      <td>2</td>\n",
       "      <td>「アイアンマン」は、トニー・スタークの成長とユーモアあふれる演出が印象的だった。</td>\n",
       "    </tr>\n",
       "    <tr>\n",
       "      <th>2</th>\n",
       "      <td>3</td>\n",
       "      <td>「ブラックパンサー」は、文化的な要素とアクションのバランスが取れており、新鮮な視点を楽しめた。</td>\n",
       "    </tr>\n",
       "    <tr>\n",
       "      <th>3</th>\n",
       "      <td>4</td>\n",
       "      <td>「ガーディアンズ・オブ・ギャラクシー」は、音楽とキャラクターたちの掛け合いが魅力的で面白かった。</td>\n",
       "    </tr>\n",
       "    <tr>\n",
       "      <th>4</th>\n",
       "      <td>5</td>\n",
       "      <td>「スパイダーマン: スパイダーバース」は、斬新なアニメーションとストーリーテリングで驚きと感...</td>\n",
       "    </tr>\n",
       "  </tbody>\n",
       "</table>\n",
       "</div>"
      ],
      "text/plain": [
       "   番号                                                 感想\n",
       "0   1     「アベンジャーズ」は、キャラクターたちの結集とアクションシーンが素晴らしく、見応えがあった。\n",
       "1   2           「アイアンマン」は、トニー・スタークの成長とユーモアあふれる演出が印象的だった。\n",
       "2   3    「ブラックパンサー」は、文化的な要素とアクションのバランスが取れており、新鮮な視点を楽しめた。\n",
       "3   4   「ガーディアンズ・オブ・ギャラクシー」は、音楽とキャラクターたちの掛け合いが魅力的で面白かった。\n",
       "4   5  「スパイダーマン: スパイダーバース」は、斬新なアニメーションとストーリーテリングで驚きと感..."
      ]
     },
     "execution_count": 10,
     "metadata": {},
     "output_type": "execute_result"
    }
   ],
   "source": [
    "# データ読み込み(chatGPTで生成)\n",
    "data = pd.read_excel(\"test_ questionnaire.xlsx\")\n",
    "print(data.shape)\n",
    "data.head(5)"
   ]
  },
  {
   "cell_type": "code",
   "execution_count": 15,
   "id": "9b6d9ef0",
   "metadata": {},
   "outputs": [],
   "source": [
    "text_li = data[\"感想\"].tolist()"
   ]
  },
  {
   "cell_type": "code",
   "execution_count": 25,
   "id": "d1d3794e",
   "metadata": {},
   "outputs": [
    {
     "data": {
      "text/plain": [
       "'「アベンジャーズ: ラスト・バトル」の予告編は、アベンジャーズのラスト・バトルと物語の結末が描かれることが期待される。'"
      ]
     },
     "execution_count": 25,
     "metadata": {},
     "output_type": "execute_result"
    }
   ],
   "source": [
    "text_li[-1]"
   ]
  },
  {
   "cell_type": "code",
   "execution_count": 11,
   "id": "a4f0a43f",
   "metadata": {},
   "outputs": [],
   "source": [
    "# 形態素解析: 名詞の抽出\n",
    "tokenizer = Tokenizer()\n",
    "nouns = [token.surface for token in tokenizer.tokenize(text) if token.part_of_speech.split(',')[0] == '名詞']"
   ]
  },
  {
   "cell_type": "code",
   "execution_count": 17,
   "id": "121f0b87",
   "metadata": {},
   "outputs": [],
   "source": [
    "tokenizer = Tokenizer()\n",
    "for text in text_li:\n",
    "    nouns = [token.surface for token in tokenizer.tokenize(text) if token.part_of_speech.split(',')[0] == '名詞']\n"
   ]
  },
  {
   "cell_type": "code",
   "execution_count": 21,
   "id": "d0e7e3e7",
   "metadata": {},
   "outputs": [
    {
     "data": {
      "text/plain": [
       "['アベンジャーズ',\n",
       " ':',\n",
       " 'ラスト',\n",
       " 'バトル',\n",
       " '予告編',\n",
       " 'アベンジャーズ',\n",
       " 'ラスト',\n",
       " 'バトル',\n",
       " '物語',\n",
       " '結末',\n",
       " 'こと',\n",
       " '期待']"
      ]
     },
     "execution_count": 21,
     "metadata": {},
     "output_type": "execute_result"
    }
   ],
   "source": [
    "len(nouns)\n",
    "nouns"
   ]
  },
  {
   "cell_type": "code",
   "execution_count": null,
   "id": "d271ee93",
   "metadata": {},
   "outputs": [],
   "source": [
    "# 共起ネットワークの構築: エッジを作成\n",
    "G = nx.Graph()\n",
    "for pair in itertools.combinations(nouns, 2):\n",
    "    if G.has_edge(pair[0], pair[1]):\n",
    "        G[pair[0]][pair[1]]['weight'] += 1\n",
    "    else:\n",
    "        G.add_edge(pair[0], pair[1], weight=1)"
   ]
  },
  {
   "cell_type": "code",
   "execution_count": null,
   "id": "e3fc44d8",
   "metadata": {},
   "outputs": [],
   "source": [
    "# ネットワークの可視化\n",
    "plt.figure(figsize=(12, 12))\n",
    "pos = nx.spring_layout(G, k=0.5)  # ノードの位置を決定\n",
    "nx.draw_networkx_nodes(G, pos, node_color='lightblue')\n",
    "nx.draw_networkx_edges(G, pos, alpha=0.5, edge_color='gray')\n",
    "nx.draw_networkx_labels(G, pos, font_size=10)\n",
    "plt.title(\"共起ネットワーク\")\n",
    "plt.show()"
   ]
  },
  {
   "cell_type": "code",
   "execution_count": null,
   "id": "15211350",
   "metadata": {},
   "outputs": [],
   "source": []
  }
 ],
 "metadata": {
  "kernelspec": {
   "display_name": "kdc-env",
   "language": "python",
   "name": "python3"
  },
  "language_info": {
   "codemirror_mode": {
    "name": "ipython",
    "version": 3
   },
   "file_extension": ".py",
   "mimetype": "text/x-python",
   "name": "python",
   "nbconvert_exporter": "python",
   "pygments_lexer": "ipython3",
   "version": "3.10.7"
  }
 },
 "nbformat": 4,
 "nbformat_minor": 5
}
