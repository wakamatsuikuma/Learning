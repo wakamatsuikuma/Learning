{
  "nbformat": 4,
  "nbformat_minor": 0,
  "metadata": {
    "colab": {
      "provenance": [],
      "collapsed_sections": [],
      "authorship_tag": "ABX9TyPxtZrvPOIln2/1GYvNkztX",
      "include_colab_link": true
    },
    "kernelspec": {
      "name": "python3",
      "display_name": "Python 3"
    },
    "language_info": {
      "name": "python"
    }
  },
  "cells": [
    {
      "cell_type": "markdown",
      "metadata": {
        "id": "view-in-github",
        "colab_type": "text"
      },
      "source": [
        "<a href=\"https://colab.research.google.com/github/wakamatsuikuma/Essence-of-Machine-Learning-1st-Editon/blob/main/4%E7%AB%A0_%E7%B5%B1%E8%A8%88.ipynb\" target=\"_parent\"><img src=\"https://colab.research.google.com/assets/colab-badge.svg\" alt=\"Open In Colab\"/></a>"
      ]
    },
    {
      "cell_type": "code",
      "execution_count": null,
      "metadata": {
        "id": "kIXIo7zgx1mM"
      },
      "outputs": [],
      "source": [
        "import numpy as np\n",
        "\n",
        "# 入手元：気象庁ホームページ\n",
        "# （https://www.data.jma.go.jp/gmd/risk/obsdl/index.php）\n",
        "# 2018年4月の東京の最高気温（日別）\n",
        "x = np.array([21.9, 24.5, 23.4, 26.2, 15.3, 22.4, 21.8, 16.8,\n",
        "              19.9, 19.1, 21.9, 25.9, 20.9, 18.8, 22.1, 20.0,\n",
        "              15.0, 16.0, 22.2, 26.4, 26.0, 28.3, 18.7, 21.3,\n",
        "              22.5, 25.0, 22.0, 26.1, 25.6, 25.7])\n"
      ]
    },
    {
      "cell_type": "code",
      "source": [],
      "metadata": {
        "id": "yudaFtN5GiE7"
      },
      "execution_count": null,
      "outputs": []
    },
    {
      "cell_type": "code",
      "source": [
        "len(x)"
      ],
      "metadata": {
        "colab": {
          "base_uri": "https://localhost:8080/"
        },
        "id": "-wSH1XDeyGt6",
        "outputId": "551f2621-366a-4648-eb16-a9021797224b"
      },
      "execution_count": null,
      "outputs": [
        {
          "output_type": "execute_result",
          "data": {
            "text/plain": [
              "30"
            ]
          },
          "metadata": {},
          "execution_count": 8
        }
      ]
    },
    {
      "cell_type": "code",
      "source": [
        "mean = x.sum() / len(x)\n",
        "std = np.sqrt( ((x - mean)**2).sum() / len(x) )\n",
        "print( \"平均値：{:.2f}℃\".format(mean))\n",
        "print(\"標準偏差：{:.2f}℃\".format(std))"
      ],
      "metadata": {
        "colab": {
          "base_uri": "https://localhost:8080/"
        },
        "id": "pCwp97jLyI9m",
        "outputId": "c7c276bd-7a8d-4198-c5f2-d87bc0311bd4"
      },
      "execution_count": null,
      "outputs": [
        {
          "output_type": "stream",
          "name": "stdout",
          "text": [
            "平均値：22.06℃\n",
            "標準偏差：3.49℃\n"
          ]
        }
      ]
    },
    {
      "cell_type": "code",
      "source": [
        "print( \"平均値：{:.2f}℃\".format(ｘ.mean()))\n",
        "print(\"標準偏差：{:.2f}℃\".format(x.std()))"
      ],
      "metadata": {
        "colab": {
          "base_uri": "https://localhost:8080/"
        },
        "id": "o2iCqrCbyPhV",
        "outputId": "bc84473e-af7c-46a6-d587-9c3fd6d57783"
      },
      "execution_count": null,
      "outputs": [
        {
          "output_type": "stream",
          "name": "stdout",
          "text": [
            "平均値：22.06℃\n",
            "標準偏差：3.49℃\n"
          ]
        }
      ]
    },
    {
      "cell_type": "markdown",
      "source": [
        "**共分散と相関係数の計算**"
      ],
      "metadata": {
        "id": "FdariK78nhC4"
      }
    },
    {
      "cell_type": "code",
      "source": [
        "import numpy as np\n",
        "# 入手元：気象庁ホームページ（https://www.data.jma.go.jp/gmd/risk/obsdl/index.php）\n",
        "# 2018年4月の東京の最高気温（日別）\n",
        "x = np.array([21.9, 24.5, 23.4, 26.2, 15.3, 22.4, 21.8, 16.8,\n",
        "              19.9, 19.1, 21.9, 25.9, 20.9, 18.8, 22.1, 20.0,\n",
        "              15.0, 16.0, 22.2, 26.4, 26.0, 28.3, 18.7, 21.3,\n",
        "              22.5, 25.0, 22.0, 26.1, 25.6, 25.7])\n",
        "# 2018年4月の札幌の最高気温（日別）\n",
        "y = np.array([8.3, 13.0, 8.4, 7.9, 7.0, 3.7, 6.1, 8.5, 8.6,\n",
        "              11.9, 12.1, 14.4, 7.0, 10.5, 6.6, 10.6, 16.6,\n",
        "              19.1, 20.1, 19.8, 24.5, 12.6, 16.4, 13.0, 13.3,\n",
        "              14.1, 14.4, 17.0, 21.3, 24.5])\n"
      ],
      "metadata": {
        "id": "puzPUuRYz9w4"
      },
      "execution_count": null,
      "outputs": []
    },
    {
      "cell_type": "code",
      "source": [
        "print( len(x) == len(y) )\n",
        "print(len(x), len(y))"
      ],
      "metadata": {
        "id": "7rrzTt560EFi",
        "colab": {
          "base_uri": "https://localhost:8080/"
        },
        "outputId": "4f48b142-45b6-4290-f8d4-79499c9aec72"
      },
      "execution_count": null,
      "outputs": [
        {
          "output_type": "stream",
          "name": "stdout",
          "text": [
            "True\n",
            "30 30\n"
          ]
        }
      ]
    },
    {
      "cell_type": "code",
      "source": [
        "x_mean = x.sum() / len(x)\n",
        "y_mean = y.sum() / len(x)\n",
        "\n",
        "x_var = ((x - x_mean)**2).sum() / len(x)\n",
        "y_var = ((y - y_mean)**2).sum() / len(y)\n",
        "x_std = np.sqrt(x_var)\n",
        "print(\"東京の最高気温の標準偏差: {:.4f}\".format(x_std))\n",
        "y_ｓｔｄ = np.sqrt(y_var)\n",
        "print(\"札幌の最高気温の標準偏差: {:.4f}\".format(y_std))\n",
        "\n",
        "ｘｙ_covar = ((x - x_mean) * (y - y_mean)).sum() / len(x)\n",
        "print(\"共分散: {:.4f}\".format(ｘｙ_covar))\n",
        "\n",
        "xy_corcoef = xy_covar / (x_std * y_std)\n",
        "print(\"相関係数: {:.4f}\".format(xy_corcoef))\n"
      ],
      "metadata": {
        "id": "PXcFxNu40EIz",
        "colab": {
          "base_uri": "https://localhost:8080/"
        },
        "outputId": "04932d55-18ce-481d-a5ad-705ff9d49c1e"
      },
      "execution_count": null,
      "outputs": [
        {
          "output_type": "stream",
          "name": "stdout",
          "text": [
            "東京の最高気温の標準偏差: 3.4908\n",
            "札幌の最高気温の標準偏差: 5.4254\n",
            "共分散: 5.4872\n",
            "相関係数: 0.2897\n"
          ]
        }
      ]
    },
    {
      "cell_type": "markdown",
      "source": [
        "正規分布を描く"
      ],
      "metadata": {
        "id": "IcGg95nKvy3L"
      }
    },
    {
      "cell_type": "code",
      "source": [
        "import numpy as np\n",
        "import matplotlib.pyplot as plt\n",
        "from scipy.stats import norm\n",
        "\n",
        "loc = 0 # 平均値\n",
        "scale = 1 # 分散\n",
        "\n",
        "x = np.linspace(-5, 5)\n",
        "y = norm.pdf(x, loc = loc, scale = scale) #引数はdefault\n",
        "plt.plot(x, y, color = \"k\")\n",
        "plt.show()\n",
        "\n",
        "# -1から１の確率を計算。scipy.stats.norm.sdfを使用。\n",
        "a = -1.96\n",
        "b = 1.96\n",
        "prob = norm.cdf(b, loc = loc, scale = scale) - norm.cdf(a, loc = loc, scale = scale) \n",
        "print(\"{}から{}の確率:{:.4f}\".format(a, b, prob))"
      ],
      "metadata": {
        "id": "wIy1kGKT0ELb",
        "colab": {
          "base_uri": "https://localhost:8080/",
          "height": 282
        },
        "outputId": "bc150200-ba30-433a-9677-45b7c2f149ba"
      },
      "execution_count": null,
      "outputs": [
        {
          "output_type": "display_data",
          "data": {
            "text/plain": [
              "<Figure size 432x288 with 1 Axes>"
            ],
            "image/png": "[encoded data removed]"
          },
          "metadata": {
            "needs_background": "light"
          }
        },
        {
          "output_type": "stream",
          "name": "stdout",
          "text": [
            "-1.96から1.96の確率:0.9500\n"
          ]
        }
      ]
    },
    {
      "cell_type": "code",
      "source": [
        "x = np.linspace(-5, 10)\n",
        "y = norm.pdf(x, loc = 4, scale = 2) #引数はdefault\n",
        "plt.plot(x, y, color = \"k\")\n",
        "plt.show()"
      ],
      "metadata": {
        "id": "5daLIgar0ENr",
        "colab": {
          "base_uri": "https://localhost:8080/",
          "height": 265
        },
        "outputId": "7ca6760b-3c3c-4ce2-ea43-097abb99afb5"
      },
      "execution_count": null,
      "outputs": [
        {
          "output_type": "display_data",
          "data": {
            "text/plain": [
              "<Figure size 432x288 with 1 Axes>"
            ],
            "image/png": "[encoded data removed]"
          },
          "metadata": {
            "needs_background": "light"
          }
        }
      ]
    },
    {
      "cell_type": "markdown",
      "source": [
        "n個のコインをm回投げて表になった回数の分布\n"
      ],
      "metadata": {
        "id": "WeGfxjNHxzwU"
      }
    },
    {
      "cell_type": "code",
      "source": [
        "import numpy as np\n",
        "\n",
        " \n",
        "def cointoss(n, m):\n",
        "  l =[]\n",
        "  for _ in range(m):\n",
        "    ｆ = np.random.randint(2, size = n)\n",
        "    l.append(f.sum())\n",
        "    \n",
        "  return l\n",
        "\n",
        "np.random.RandomState(99)\n",
        "fig, axes = plt.subplots(1, 2)\n",
        "\n",
        "l = cointoss(100, 1000000)\n",
        "axes[0].hist(l, range=(25, 75), bins=50, color=\"k\")\n",
        "l = cointoss(10000, 1000000)\n",
        "axes[1].hist(l, range=(4800, 5200), bins=50, color=\"k\")\n",
        "\n",
        "plt.show()"
      ],
      "metadata": {
        "id": "aus0bPPD0ESS",
        "colab": {
          "base_uri": "https://localhost:8080/",
          "height": 265
        },
        "outputId": "acb08ff9-82c2-4cf2-d166-2e0023db014d"
      },
      "execution_count": null,
      "outputs": [
        {
          "output_type": "display_data",
          "data": {
            "text/plain": [
              "<Figure size 432x288 with 2 Axes>"
            ],
            "image/png": "[encoded data removed]"
          },
          "metadata": {
            "needs_background": "light"
          }
        }
      ]
    },
    {
      "cell_type": "code",
      "source": [],
      "metadata": {
        "id": "VDYirkpl0Eas"
      },
      "execution_count": null,
      "outputs": []
    },
    {
      "cell_type": "code",
      "source": [],
      "metadata": {
        "id": "vq1iRDRZ0EdF"
      },
      "execution_count": null,
      "outputs": []
    },
    {
      "cell_type": "code",
      "source": [],
      "metadata": {
        "id": "BhptJXQ20Efi"
      },
      "execution_count": null,
      "outputs": []
    },
    {
      "cell_type": "code",
      "source": [],
      "metadata": {
        "id": "8dz2WoK50Ehv"
      },
      "execution_count": null,
      "outputs": []
    },
    {
      "cell_type": "code",
      "source": [],
      "metadata": {
        "id": "yWEhPGho0Ej7"
      },
      "execution_count": null,
      "outputs": []
    },
    {
      "cell_type": "code",
      "source": [],
      "metadata": {
        "id": "ia_BhxQO0EmM"
      },
      "execution_count": null,
      "outputs": []
    },
    {
      "cell_type": "code",
      "source": [],
      "metadata": {
        "id": "izi5GnUy0EoU"
      },
      "execution_count": null,
      "outputs": []
    },
    {
      "cell_type": "code",
      "source": [],
      "metadata": {
        "id": "TuR19bDiHJrU"
      },
      "execution_count": null,
      "outputs": []
    },
    {
      "cell_type": "code",
      "source": [],
      "metadata": {
        "id": "ejlVXtloHJt7"
      },
      "execution_count": null,
      "outputs": []
    },
    {
      "cell_type": "code",
      "source": [],
      "metadata": {
        "id": "mxY1E85hHJ0d"
      },
      "execution_count": null,
      "outputs": []
    },
    {
      "cell_type": "code",
      "source": [],
      "metadata": {
        "id": "OSs6u0IpHJ2e"
      },
      "execution_count": null,
      "outputs": []
    },
    {
      "cell_type": "code",
      "source": [],
      "metadata": {
        "id": "0rz7RizJHJ43"
      },
      "execution_count": null,
      "outputs": []
    }
  ]
}