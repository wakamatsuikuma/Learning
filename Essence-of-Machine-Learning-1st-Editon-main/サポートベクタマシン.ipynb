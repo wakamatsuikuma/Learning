{
  "nbformat": 4,
  "nbformat_minor": 0,
  "metadata": {
    "colab": {
      "provenance": [],
      "collapsed_sections": [],
      "authorship_tag": "ABX9TyM+F8cTLFVhZjfQ0TNhgYP/",
      "include_colab_link": true
    },
    "kernelspec": {
      "name": "python3",
      "display_name": "Python 3"
    },
    "language_info": {
      "name": "python"
    }
  },
  "cells": [
    {
      "cell_type": "markdown",
      "metadata": {
        "id": "view-in-github",
        "colab_type": "text"
      },
      "source": [
        "<a href=\"https://colab.research.google.com/github/wakamatsuikuma/Essence-of-Machine-Learning-1st-Editon/blob/main/%E3%82%B5%E3%83%9D%E3%83%BC%E3%83%88%E3%83%99%E3%82%AF%E3%82%BF%E3%83%9E%E3%82%B7%E3%83%B3.ipynb\" target=\"_parent\"><img src=\"https://colab.research.google.com/assets/colab-badge.svg\" alt=\"Open In Colab\"/></a>"
      ]
    },
    {
      "cell_type": "code",
      "execution_count": null,
      "metadata": {
        "colab": {
          "base_uri": "https://localhost:8080/",
          "height": 87
        },
        "id": "H-ioucxJmx5J",
        "outputId": "c3e38031-9d4c-4523-9e7c-94052ee066aa"
      },
      "outputs": [
        {
          "output_type": "execute_result",
          "data": {
            "text/plain": [
              "'\\nサポートベクタのみを考慮したマージン最大化を目指す\\n\\u3000・重みベクトルのL２ノルムの最大化\\u3000の問題とできる\\n\\u3000・ラグランジュ未定乗数法により、重みベクトルの解は求められるが、ラグランジュ乗数ベクトルを求める必要があり。\\n\\u3000・ラグランジュ関数におけるi, j成分のみを和から外に出し、式を整理することでラグランジュ乗数のみとできる\\n\\u3000\\u3000\\u3000\\u3000→双対表現とよび、この双対問題を解く\\n\\n双対問題を逐次最小最適化（SMO）で解く\\n\\u3000・最大化を考えると、i成分の二次関数へと変形できることから軸となるa要素が解となる\\n\\u3000\\u3000\\u3000j成分はそれに対応するよう計算する。\\n\\u3000\\u3000\\u3000（ただし制約条件に合わせる）\\n\\u3000・数値解であるので、更新によるi, jの選び方は更なるラグランジュ未定乗数法で導く\\n\\n[所感]\\n・初期値、スラック変数、カーネル関数の選び方で精度と計算速度が変わりそう\\n\\n'"
            ],
            "application/vnd.google.colaboratory.intrinsic+json": {
              "type": "string"
            }
          },
          "metadata": {},
          "execution_count": 1
        }
      ],
      "source": [
        "\"\"\"\n",
        "サポートベクタのみを考慮したマージン最大化を目指す\n",
        "　・重みベクトルのL２ノルムの最大化　の問題とできる\n",
        "　・ラグランジュ未定乗数法により、重みベクトルの解は求められるが、ラグランジュ乗数ベクトルを求める必要があり。\n",
        "　・ラグランジュ関数におけるi, j成分のみを和から外に出し、式を整理することでラグランジュ乗数のみとできる\n",
        "　　　　→双対表現とよび、この双対問題を解く\n",
        "\n",
        "双対問題を逐次最小最適化（SMO）で解く\n",
        "　・最大化を考えると、i成分の二次関数へと変形できることから軸となるa要素が解となる\n",
        "　　　j成分はそれに対応するよう計算する。\n",
        "　　　（ただし制約条件に合わせる）\n",
        "　・数値解であるので、更新によるi, jの選び方は更なるラグランジュ未定乗数法で導く\n",
        "\n",
        "[所感]\n",
        "・初期値、スラック変数、カーネル関数の選び方で精度と計算速度が変わりそう\n",
        "\n",
        "\"\"\""
      ]
    },
    {
      "cell_type": "code",
      "source": [
        "import numpy as np\n",
        "from operator import itemgetter\n",
        "\n",
        "class SVC:\n",
        "  def fit(self, X, y, selections = None):\n",
        "    a = np.zeros(X.shape[0]) # ラグランジュ乗数ベクトルの初期値は0でスタート\n",
        "    # 以下、aハッシュを計算するための項の初期値\n",
        "    ay = 0\n",
        "    ayx = np.zeros(X.shape[1]) # あるサンプルにおけるラグランジュ乗数、目的変数(ラベル値)、特徴量の掛け算\n",
        "    yx = y.reshape(-1, 1)*X # 目的変数(ラベル)、特徴量の掛け算\n",
        "    indices = np.arange(X.shape[0]) # インデックス生成　= サンプル数\n",
        "\n",
        "    while True:\n",
        "      ydf = y*(1 - np.dot(yx, ayx.T))\n",
        "      iydf = np.c_[indices, ydf]\n",
        "\n",
        "      # 条件を満たすインデックスを抽出\n",
        "      i = int(min(iydf[(y < 0) | (a > 0)], key = itemgetter(1))[0])\n",
        "      j = int(min(iydf[(y > 0) | (a > 0)], key = itemgetter(1))[0])\n",
        "\n",
        "      # 抽出した2つのインデックスが以下を満たせば終了し、そのaをもって重みを計算する\n",
        "      if ydf[i] >= ydf[j]:\n",
        "        break\n",
        "      \n",
        "      ay2 = ay - y[i]*a[i] - y[j]*a[j]\n",
        "      ayx2 = ayx - y[i]*a[i]*X[i, :]\n",
        "\n",
        "      # aの計算\n",
        "      ai = ((1-y[i]*y[j] \n",
        "             + y[i]*np.dot(X[i, :] - X[j, :],X[j, :]*ay2 - ayx2))\n",
        "                      / ((X[i] - X[j])**2).sum())\n",
        "      if ai < 0:\n",
        "        ai = 0\n",
        "      aj = (-ai * y[i] - ay2 ) * y[j]\n",
        "      if aj < 0:\n",
        "        aj = 0\n",
        "        ai = (-ai * y[j] - ay2 ) * y[i]\n",
        "\n",
        "      # 更新後のaで、またaiハットを計算するために更新\n",
        "      ay += y[i]*(ai - a[i]) + y[j]*(aj - a[j])\n",
        "      ayx += y[i]*(ai - a[i])*X[i, :] + y[j]*(aj - a[j])*X[j, :]\n",
        "\n",
        "      if ai == a[i]:# 無限ループにならないようにするため？\n",
        "        break\n",
        "      \n",
        "      # 更新？\n",
        "      a[i] = ai\n",
        "      a[j] = aj\n",
        "      \n",
        "    self.a_ = a\n",
        "    ind = a != 0.\n",
        "    self.w_ = ((a[ind] * y[ind]).reshape(-1, 1) * X[ind, :]).sum(axis=0)\n",
        "    self.w0_ = (y[ind] - np.dot(X[ind, :], self.w_)).sum() / ind.sum()\n",
        "  \n",
        "  def predict(self, X):\n",
        "    return np.sign(self.w0_ + np.dot(X, self.w_))\n",
        "\n",
        "\n"
      ],
      "metadata": {
        "id": "S5uASu3wnBUO"
      },
      "execution_count": null,
      "outputs": []
    },
    {
      "cell_type": "code",
      "source": [
        "import numpy as np\n",
        "import matplotlib.pyplot as plt\n",
        "\n",
        "plt.axes().set_aspect(\"equal\")\n",
        "np.random.seed(0)\n",
        "X0 = np.random.randn(20, 2)\n",
        "X1 = np.random.randn(20, 2) + np.array([5, 5])\n",
        "y = np.array([1] * 20 + [-1] * 20)\n",
        "\n",
        "X = np.r_[X0, X1]\n",
        "# 学習\n",
        "model = SVC()\n",
        "model.fit(X, y)\n",
        "\n",
        "# テストデータのプロット\n",
        "plt.scatter(X0[:, 0], X0[:, 1], color=\"k\", marker=\"+\")\n",
        "plt.scatter(X1[:, 0], X1[:, 1], color=\"k\", marker=\"*\")\n",
        "\n",
        "# w0 + w1*x0 + w2*x1 = 0　としたときの、片方の変数を固定した時のもう片方の変数の計算\n",
        "def f(model, x):\n",
        "    return (-model.w0_ - model.w_[0] * x) / model.w_[1]\n",
        "\n",
        "\n",
        "x1 = -0.2\n",
        "x2 = 6\n",
        "plt.plot([x1, x2], [f(model, x1), f(model, x2)], color=\"k\")\n",
        "plt.scatter(X[model.a_ != 0, 0], X[model.a_ != 0, 1],\n",
        "            s=200, color=(0, 0, 0, 0), edgecolor=\"k\", marker=\"o\")\n",
        "\n",
        "plt.show()\n"
      ],
      "metadata": {
        "colab": {
          "base_uri": "https://localhost:8080/",
          "height": 265
        },
        "id": "2YU8cZlbnBVW",
        "outputId": "3939e8d6-33a5-49ac-ebd1-df0abcbf3a2a"
      },
      "execution_count": null,
      "outputs": [
        {
          "output_type": "display_data",
          "data": {
            "text/plain": [
              "<Figure size 432x288 with 1 Axes>"
            ],
            "image/png": "[encoded data removed]"
          },
          "metadata": {
            "needs_background": "light"
          }
        }
      ]
    },
    {
      "cell_type": "code",
      "source": [
        "import numpy as np\n",
        "from operator import itemgetter\n",
        "\n",
        "\n",
        "class SVC_soft:\n",
        "    def __init__(self, C=1.):\n",
        "        self.C = C\n",
        "\n",
        "    def fit(self, X, y, selections=None):\n",
        "        a = np.zeros(X.shape[0])\n",
        "        ay = 0\n",
        "        ayx = np.zeros(X.shape[1])\n",
        "        yx = y.reshape(-1, 1)*X\n",
        "        indices = np.arange(X.shape[0])\n",
        "        while True:\n",
        "            ydf = y*(1-np.dot(yx, ayx.T))\n",
        "            iydf = np.c_[indices, ydf]\n",
        "\n",
        "            # i,jの選び方が異なる。C(ハイパーパラメータ)による制限もかかっている。\n",
        "            i = int(min(iydf[((a > 0) & (y > 0)) |\n",
        "                             ((a < self.C) & (y < 0))],\n",
        "                        key=itemgetter(1))[0])\n",
        "            j = int(max(iydf[((a > 0) & (y < 0)) |\n",
        "                             ((a < self.C) & (y > 0))],\n",
        "                        key=itemgetter(1))[0])\n",
        "            if ydf[i] >= ydf[j]:\n",
        "                break\n",
        "            \n",
        "            \n",
        "            ay2 = ay - y[i]*a[i] - y[j]*a[j]\n",
        "            ayx2 = ayx - y[i]*a[i]*X[i, :] - y[j]*a[j]*X[j, :]\n",
        "            ai = ((1-y[i]*y[j]\n",
        "                   + y[i]*np.dot(X[i, :] - X[j, :],\n",
        "                                 X[j, :]*ay2 - ayx2))\n",
        "                  / ((X[i] - X[j])**2).sum())\n",
        "            \n",
        "            # i, jがそれぞれCより大きい場合も考慮した場合分けにする。\n",
        "            if ai < 0:\n",
        "                ai = 0\n",
        "            elif ai > self.C:\n",
        "                ai = self.C\n",
        "            aj = (-ai * y[i] - ay2) * y[j]\n",
        "            if aj < 0:\n",
        "                aj = 0\n",
        "                ai = (-aj*y[j]-ay2)*y[i]\n",
        "            elif aj > self.C:\n",
        "                aj = self.C\n",
        "                ai = (-aj*y[j]-ay2)*y[i]\n",
        "\n",
        "\n",
        "            ay += y[i]*(ai - a[i]) + y[j]*(aj - a[j])\n",
        "            ayx += y[i]*(ai - a[i])*X[i, :] + y[j]*(aj - a[j])*X[j, :]\n",
        "            if ai == a[i]:\n",
        "                break\n",
        "            a[i] = ai\n",
        "            a[j] = aj\n",
        "        self.a_ = a\n",
        "        ind = a != 0.\n",
        "        self.w_ = ((a[ind] * y[ind]).reshape(-1, 1)\n",
        "                   * X[ind, :]).sum(axis=0)\n",
        "        self.w0_ = (y[ind]\n",
        "                    - np.dot(X[ind, :], self.w_)).sum() / ind.sum()\n",
        "\n",
        "    def predict(self, X):\n",
        "        return np.sign(self.w0_ + np.dot(X, self.w_))\n"
      ],
      "metadata": {
        "id": "mUpTYACqnBg0"
      },
      "execution_count": null,
      "outputs": []
    },
    {
      "cell_type": "code",
      "source": [
        "import numpy as np\n",
        "import matplotlib.pyplot as plt\n",
        "\n",
        "\n",
        "plt.axes().set_aspect(\"equal\")\n",
        "np.random.seed(0)\n",
        "X0 = np.random.randn(20, 2)\n",
        "X1 = np.random.randn(20, 2) + np.array([2.5, 3]) # 2種類の点群を一部重ねるようにデータ作成\n",
        "y = np.array([1] * 20 + [-1] * 20)\n",
        "\n",
        "X = np.r_[X0, X1]\n",
        "\n",
        "model = SVC_soft()\n",
        "model.fit(X, y)\n",
        "\n",
        "plt.scatter(X0[:, 0], X0[:, 1], color=\"k\", marker=\"+\")\n",
        "plt.scatter(X1[:, 0], X1[:, 1], color=\"k\", marker=\"*\")\n",
        "\n",
        "\n",
        "def f(model, x):\n",
        "    return (-model.w0_ - model.w_[0] * x) / model.w_[1]\n",
        "\n",
        "\n",
        "x1 = -2\n",
        "x2 = 4\n",
        "plt.plot([x1, x2], [f(model, x1), f(model, x2)], color=\"k\")\n",
        "print(\"正しく分類できた数:\", (model.predict(X) == y).sum())\n",
        "plt.scatter(X[model.a_ != 0, 0], X[model.a_ != 0, 1],\n",
        "            s=200, color=(0, 0, 0, 0), edgecolor=\"k\", marker=\"o\")\n",
        "\n",
        "\n",
        "def f(model, xx):\n",
        "    return model.w0_+np.dot(model.w_, xx)\n",
        "\n",
        "\n",
        "plt.show()\n"
      ],
      "metadata": {
        "id": "gGIaV8EgFS1U",
        "colab": {
          "base_uri": "https://localhost:8080/",
          "height": 282
        },
        "outputId": "767a8008-bfd5-4763-e279-925476e6b6e1"
      },
      "execution_count": null,
      "outputs": [
        {
          "output_type": "stream",
          "name": "stdout",
          "text": [
            "正しく分類できた数: 37\n"
          ]
        },
        {
          "output_type": "display_data",
          "data": {
            "text/plain": [
              "<Figure size 432x288 with 1 Axes>"
            ],
            "image/png": "[encoded data removed]"
          },
          "metadata": {
            "needs_background": "light"
          }
        }
      ]
    },
    {
      "cell_type": "code",
      "source": [
        "import numpy as np\n",
        "from operator import itemgetter\n",
        "\n",
        "class RBFKernel:\n",
        "    def __init__(self, X, sigma):\n",
        "        self.sigma2 = sigma**2\n",
        "        self.X = X\n",
        "\n",
        "\n",
        "    def value(self, i, j):\n",
        "        return np.exp(-((self.X[i, :] - self.X[j, :])**2).sum()\n",
        "                      / (2*self.sigma2))\n",
        "\n",
        "    # k≠i, j の部分の計算をBool型で工夫している\n",
        "    def eval(self, Z, s):\n",
        "        return np.exp(-((self.X[s, np.newaxis, :]\n",
        "                         - Z[np.newaxis, :, :])**2).sum(axis=2)\n",
        "                      / (2*self.sigma2))\n",
        "\n",
        "\n",
        "class SVC:\n",
        "    def __init__(self, C=1., sigma=1., max_iter=10000):\n",
        "        self.C = C\n",
        "        self.sigma = sigma\n",
        "        self.max_iter = max_iter\n",
        "\n",
        "    def fit(self, X, y, selections=None):\n",
        "        a = np.zeros(X.shape[0])\n",
        "        ay = 0\n",
        "        kernel = RBFKernel(X, self.sigma)\n",
        "        indices = np.arange(X.shape[0])\n",
        "        for _ in range(self.max_iter):\n",
        "            s = a != 0.\n",
        "            ydf = y * (1 - y*np.dot(a[s]*y[s],\n",
        "                                    kernel.eval(X, s)).T)\n",
        "            iydf = np.c_[indices, ydf]\n",
        "            i = int(min(iydf[((a > 0) & (y > 0)) |\n",
        "                             ((a < self.C) & (y < 0))],\n",
        "                        key=itemgetter(1))[0])\n",
        "            j = int(max(iydf[((a > 0) & (y < 0)) |\n",
        "                             ((a < self.C) & (y > 0))],\n",
        "                        key=itemgetter(1))[0])\n",
        "            if ydf[i] >= ydf[j]:\n",
        "                break\n",
        "            \n",
        "            # 最適化の部分\n",
        "            ay2 = ay - y[i]*a[i] - y[j]*a[j]\n",
        "            kii = kernel.value(i, i)\n",
        "            kij = kernel.value(i, j)\n",
        "            kjj = kernel.value(j, j)\n",
        "            s = a != 0.\n",
        "            s[i] = False\n",
        "            s[j] = False\n",
        "            kxi = kernel.eval(X[i, :].reshape(1, -1), s).ravel()\n",
        "            kxj = kernel.eval(X[j, :].reshape(1, -1), s).ravel()\n",
        "            ai = ((1 - y[i]*y[j]\n",
        "                   + y[i]*((kij - kjj)*ay2\n",
        "                           - (a[s]*y[s]*(kxi-kxj)).sum()))\n",
        "                  / (kii + kjj - 2*kij))\n",
        "            \n",
        "\n",
        "            if ai < 0:\n",
        "                ai = 0\n",
        "            elif ai > self.C:\n",
        "                ai = self.C\n",
        "            aj = (-ai*y[i] - ay2)*y[j]\n",
        "            if aj < 0:\n",
        "                aj = 0\n",
        "                ai = (-aj*y[j] - ay2)*y[i]\n",
        "            elif aj > self.C:\n",
        "                aj = self.C\n",
        "                ai = (-aj*y[j] - ay2)*y[i]\n",
        "            ay += y[i] * (ai-a[i]) + y[j] * (aj-a[j])\n",
        "            if ai == a[i]:\n",
        "                break\n",
        "            a[i] = ai\n",
        "            a[j] = aj\n",
        "        self.a_ = a\n",
        "        self.y_ = y\n",
        "        self.kernel_ = kernel\n",
        "        s = a != 0.\n",
        "\n",
        "\n",
        "        self.w0_ = (y[s]\n",
        "                    - np.dot(a[s]*y[s],\n",
        "                             kernel.eval(X[s], s))).sum() / s.sum()\n",
        "        with open(\"svm.log\", \"w\") as fp:\n",
        "            print(a, file=fp)\n",
        "\n",
        "    # 重みベクトルは計算せず、写像後のxとの内積を直接計算する\n",
        "    def predict(self, X):\n",
        "        s = self.a_ != 0.\n",
        "        return np.sign(self.w0_\n",
        "                       + np.dot(self.a_[s]*self.y_[s],\n",
        "                                self.kernel_.eval(X, s)))\n"
      ],
      "metadata": {
        "id": "CzMrQRpGFS70"
      },
      "execution_count": null,
      "outputs": []
    },
    {
      "cell_type": "code",
      "source": [
        "import numpy as np\n",
        "import matplotlib.pyplot as plt\n",
        "\n",
        "\n",
        "plt.axes().set_aspect(\"equal\")\n",
        "np.random.seed(0)\n",
        "X0 = np.random.randn(100, 2)\n",
        "X1 = np.random.randn(100, 2) + np.array([2.5, 3])\n",
        "y = np.array([1] * 100 + [-1] * 100)\n",
        "X = np.r_[X0, X1]\n",
        "\n",
        "model = SVC()\n",
        "model.fit(X, y)\n",
        "\n",
        "xmin, xmax = X[:, 0].min(), X[:, 0].max()\n",
        "ymin, ymax = X[:, 1].min(), X[:, 1].max()\n",
        "\n",
        "plt.scatter(X0[:, 0], X0[:, 1], color=\"k\", marker=\"*\")\n",
        "plt.scatter(X1[:, 0], X1[:, 1], color=\"k\", marker=\"+\")\n",
        "xmesh, ymesh = np.meshgrid(np.linspace(xmin, xmax, 200),\n",
        "                           np.linspace(ymin, ymax, 200))\n",
        "Z = model.predict(np.c_[xmesh.ravel(), ymesh.ravel()]).reshape(xmesh.shape)\n",
        "plt.contour(xmesh, ymesh, Z, levels=[0], colors=\"k\")\n",
        "\n",
        "print(\"正しく分類できた数:\", (model.predict(X) == y).sum())\n",
        "plt.show()\n"
      ],
      "metadata": {
        "id": "VFYM9nA5FS93",
        "colab": {
          "base_uri": "https://localhost:8080/",
          "height": 282
        },
        "outputId": "6f273d1f-37c1-4b23-88a2-1d848d14245d"
      },
      "execution_count": null,
      "outputs": [
        {
          "output_type": "stream",
          "name": "stdout",
          "text": [
            "正しく分類できた数: 193\n"
          ]
        },
        {
          "output_type": "display_data",
          "data": {
            "text/plain": [
              "<Figure size 432x288 with 1 Axes>"
            ],
            "image/png": "[encoded data removed]"
          },
          "metadata": {
            "needs_background": "light"
          }
        }
      ]
    },
    {
      "cell_type": "code",
      "source": [],
      "metadata": {
        "id": "iwSDDOSSPK2Z"
      },
      "execution_count": null,
      "outputs": []
    }
  ]
}