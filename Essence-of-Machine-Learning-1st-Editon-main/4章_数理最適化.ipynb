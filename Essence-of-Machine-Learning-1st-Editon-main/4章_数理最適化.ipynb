{
  "nbformat": 4,
  "nbformat_minor": 0,
  "metadata": {
    "colab": {
      "provenance": [],
      "collapsed_sections": [
        "6NP9gi9hj8dh",
        "nF-brXSDjnWp",
        "1e7J1M62je8g",
        "3z-nkkdsSU_U"
      ],
      "mount_file_id": "15kcyrBf8eyp_XGqoyyl25gH56figC_2U",
      "authorship_tag": "ABX9TyM6npIz7G9HbvOH7DyBtidA",
      "include_colab_link": true
    },
    "kernelspec": {
      "name": "python3",
      "display_name": "Python 3"
    },
    "language_info": {
      "name": "python"
    }
  },
  "cells": [
    {
      "cell_type": "markdown",
      "metadata": {
        "id": "view-in-github",
        "colab_type": "text"
      },
      "source": [
        "<a href=\"https://colab.research.google.com/github/wakamatsuikuma/Essence-of-Machine-Learning-1st-Editon/blob/main/4%E7%AB%A0_%E6%95%B0%E7%90%86%E6%9C%80%E9%81%A9%E5%8C%96.ipynb\" target=\"_parent\"><img src=\"https://colab.research.google.com/assets/colab-badge.svg\" alt=\"Open In Colab\"/></a>"
      ]
    },
    {
      "cell_type": "markdown",
      "source": [
        "# 線形計画問題と二次計画法\n",
        "\n"
      ],
      "metadata": {
        "id": "6NP9gi9hj8dh"
      }
    },
    {
      "cell_type": "markdown",
      "source": [
        "制約条件ありでの１次元および2次元関数の最適化"
      ],
      "metadata": {
        "id": "ZZts08zZSkVV"
      }
    },
    {
      "cell_type": "code",
      "execution_count": null,
      "metadata": {
        "colab": {
          "base_uri": "https://localhost:8080/"
        },
        "id": "p3EeXR3Xh761",
        "outputId": "8410558d-dffb-4d18-c37c-0d829ffb1ec1"
      },
      "outputs": [
        {
          "output_type": "stream",
          "name": "stdout",
          "text": [
            "[399.99988463 199.99996114]\n",
            "-1999.9994984688583\n"
          ]
        }
      ],
      "source": [
        "import numpy as np\n",
        "from scipy import optimize\n",
        "\n",
        "c = np.array([-3, -4], dtype=np.float64)\n",
        "G = np.array([[1, 4], [2, 3], [2, 1]], dtype=np.float64)\n",
        "h = np.array([1700, 1400, 1000], np.float64)\n",
        "sol = optimize.linprog(c, A_ub=G, b_ub=h, bounds=(0, None))\n",
        "\n",
        "print(sol.x)\n",
        "print(sol.fun)"
      ]
    },
    {
      "cell_type": "code",
      "source": [
        "import numpy as np\n",
        "import cvxopt\n",
        "\n",
        "P = cvxopt.matrix(np.array([[2, 1], [1, 2]], dtype=np.float64))\n",
        "q = cvxopt.matrix(np.array([2, 4], dtype=np.float64))\n",
        "\n",
        "sol = cvxopt.solvers.qp(P, q)\n",
        "\n",
        "print(list(sol.keys()))\n",
        "#print(list(sol.values()))\n",
        "\n",
        "print(np.array(sol[\"x\"]))\n",
        "print(np.array(sol[\"primal objective\"]))\n"
      ],
      "metadata": {
        "colab": {
          "base_uri": "https://localhost:8080/"
        },
        "id": "uFeZZOLbiX-x",
        "outputId": "ec9ddfe4-58ea-4b00-d95e-89f1b9d0445e"
      },
      "execution_count": null,
      "outputs": [
        {
          "output_type": "stream",
          "name": "stdout",
          "text": [
            "['status', 'x', 'y', 'z', 's', 'gap', 'relative gap', 'primal objective', 'dual objective', 'primal slack', 'dual slack', 'primal infeasibility', 'dual infeasibility', 'iterations']\n",
            "[[ 1.57009246e-16]\n",
            " [-2.00000000e+00]]\n",
            "-4.0\n"
          ]
        }
      ]
    },
    {
      "cell_type": "code",
      "source": [
        "import numpy as np\n",
        "import cvxopt\n",
        "\n",
        "P = cvxopt.matrix(np.array([[2, 1], [1, 2]], dtype=np.float64))\n",
        "q = cvxopt.matrix(np.array([2, 4], dtype=np.float64))\n",
        "A = cvxopt.matrix(np.array([[1, 1]], dtype=np.float64))\n",
        "b = cvxopt.matrix(np.array([0], dtype=np.float64))\n",
        "\n",
        "sol = cvxopt.solvers.qp(P, q, A=A, b=b)\n",
        "\n",
        "print(list(sol.keys()))\n",
        "#print(list(sol.values()))\n",
        "\n",
        "print(np.array(sol[\"x\"]))\n",
        "print(np.array(sol[\"primal objective\"]))\n"
      ],
      "metadata": {
        "colab": {
          "base_uri": "https://localhost:8080/"
        },
        "id": "V6-B90J7ieyU",
        "outputId": "4c199cbd-11aa-4f6d-e9dd-96bc19b2af87"
      },
      "execution_count": null,
      "outputs": [
        {
          "output_type": "stream",
          "name": "stdout",
          "text": [
            "['status', 'x', 'y', 'z', 's', 'gap', 'relative gap', 'primal objective', 'dual objective', 'primal slack', 'dual slack', 'primal infeasibility', 'dual infeasibility', 'iterations']\n",
            "[[ 1.]\n",
            " [-1.]]\n",
            "-1.0000000000000013\n"
          ]
        }
      ]
    },
    {
      "cell_type": "code",
      "source": [
        "import numpy as np\n",
        "import cvxopt\n",
        "\n",
        "P = cvxopt.matrix(np.array([[2, 1], [1, 2]], dtype=np.float64))\n",
        "q = cvxopt.matrix(np.array([2, 4], dtype=np.float64))\n",
        "G = cvxopt.matrix(np.array([[2, 3]], dtype=np.float64))\n",
        "h = cvxopt.matrix(np.array([3], dtype=np.float64))\n",
        "\n",
        "sol = cvxopt.solvers.qp(P, q, G=G, h=h)\n",
        "\n",
        "print(list(sol.keys()))\n",
        "#print(list(sol.values()))\n",
        "\n",
        "print(np.array(sol[\"x\"]))\n",
        "print(np.array(sol[\"primal objective\"]))\n"
      ],
      "metadata": {
        "colab": {
          "base_uri": "https://localhost:8080/"
        },
        "id": "HtiVKikcipC7",
        "outputId": "e73328a2-6a26-483b-cb14-975e626771c8"
      },
      "execution_count": null,
      "outputs": [
        {
          "output_type": "stream",
          "name": "stdout",
          "text": [
            "     pcost       dcost       gap    pres   dres\n",
            " 0:  1.8858e+00  2.9758e-01  2e+00  0e+00  2e+00\n",
            " 1: -2.1066e+00 -2.1546e+00  5e-02  2e-16  7e-01\n",
            " 2: -3.9999e+00 -4.0665e+00  7e-02  6e-16  8e-17\n",
            " 3: -4.0000e+00 -4.0007e+00  7e-04  9e-16  1e-16\n",
            " 4: -4.0000e+00 -4.0000e+00  7e-06  3e-16  6e-17\n",
            " 5: -4.0000e+00 -4.0000e+00  7e-08  3e-16  2e-16\n",
            "Optimal solution found.\n",
            "['x', 'y', 's', 'z', 'status', 'gap', 'relative gap', 'primal objective', 'dual objective', 'primal infeasibility', 'dual infeasibility', 'primal slack', 'dual slack', 'iterations']\n",
            "[[-2.45940165e-09]\n",
            " [-2.00000001e+00]]\n",
            "-4.0\n"
          ]
        }
      ]
    },
    {
      "cell_type": "markdown",
      "source": [
        "# 勾配降下法"
      ],
      "metadata": {
        "id": "nF-brXSDjnWp"
      }
    },
    {
      "cell_type": "markdown",
      "source": [
        "制約条件なしでの多次元関数の最適化"
      ],
      "metadata": {
        "id": "UVfOzZ51StlX"
      }
    },
    {
      "cell_type": "code",
      "source": [
        "# 勾配降下法の実装\n",
        "\n",
        "import numpy as np\n",
        "\n",
        "# まず最小化したい関数と導関数を指定\n",
        "class GradientDescent:\n",
        "    \n",
        "    def __init__(self, f, df, alpha=0.01, eps = 1e-6):\n",
        "        \n",
        "        # alphaとepsは与えておく\n",
        "        \n",
        "        self.f = f\n",
        "        self.df = df\n",
        "        self.alpha = alpha\n",
        "        self.eps = eps\n",
        "        self.path = None \n",
        "    \n",
        "    \n",
        "    def solve(self, init):\n",
        "        \n",
        "        # 計算の準備\n",
        "        x = init # 開始の点は引数で与える\n",
        "        path = []\n",
        "        path.append(x) # 描画用に通った変数は保存しておく\n",
        "        grad = self.df(x) # その・での勾配ベクトルの計算\n",
        "        \n",
        "        # アルゴリズムの表現：勾配ベクトルのノルムL2がε以下になるまで、勾配降下法で点を移動する。\n",
        "        while (grad ** 2).sum()>self.eps ** 2:\n",
        "            x = x - self.alpha * grad # 次の点を計算\n",
        "            grad = self.df(x) # 移動後の点での勾配を計算\n",
        "            path.append(x) # 移動後の点をリストに保存\n",
        "        \n",
        "        # 勾配降下法計算後の　点の通り道、最適解、最適値を保存\n",
        "        self.path_ = np.array(path)\n",
        "        self.x_ = x\n",
        "        self.opt_ = f(x)\n"
      ],
      "metadata": {
        "id": "w-62yACmi1Ph"
      },
      "execution_count": null,
      "outputs": []
    },
    {
      "cell_type": "code",
      "source": [
        "#5x^2-6xy+3y^2+6x-6yの最小値の計算\n",
        "\n",
        "import matplotlib.pyplot as plt\n",
        "\n",
        "#1. 最適化したい関数とその導関数を定義\n",
        "\n",
        "# 最適化したい関数。引数はもちろん、2変数（ndarray型/第一引数x、第二引数yで格納）。\n",
        "def f(xx):\n",
        "    x = xx[0]\n",
        "    y = xx[1]\n",
        "    \n",
        "    return 5 * (x**2) - 6 * x * y + 3 * (y**2) + 6 * x - 6 * y\n",
        "\n",
        "# 導関数。引数はもちろん、2変数ndarray型/第一引数x、第二引数yで格納）。\n",
        "def df(xx):\n",
        "    x = xx[0]\n",
        "    y = xx[1]\n",
        "    \n",
        "    return np.array([10 * x - 6 * y + 6, -6 * x + 6 * y - 6])\n",
        "\n",
        "\n",
        "\n",
        "#2. 実装したクラスで最適化の計算\n",
        "algo = GradientDescent(f, df)#まずは実装したクラスのインスタンス作成。引数には上で定義した引数無し関数を指定。\n",
        "initial = np.array([1, 1]) #初期値を(x, y)=(1, 1)とする\n",
        "algo.solve(initial) #初期値initialを引数として実装した勾配降下法を実行\n",
        "print(algo.x_)\n",
        "print(algo.opt_)\n",
        "\n",
        "\n",
        "\n",
        "#3. 収束する様子を描画\n",
        "\n",
        "#始点\n",
        "plt.scatter(initial[0], initial[1], color = 'k', marker = 'o')\n",
        "\n",
        "#最適値に収束するまでの通り道\n",
        "plt.plot(algo.path_[:, 0], algo.path_[:, 1], color = 'k', linewidth = 1.5)\n",
        "\n",
        "#最適化したい関数の等高線\n",
        "xs = np.linspace(-2, 2, 300)\n",
        "ys = np.linspace(-2, 2, 300)\n",
        "xmesh, ymesh = np.meshgrid(xs, ys) #任意のx座標およびy座標における関数の値を評価するためのグリッドを示す配列を作成\n",
        "\n",
        "xx = np.r_[xmesh.reshape(1, -1), ymesh.reshape(1, -1)]\n",
        "z = f(xx).reshape(xmesh.shape) # 最適化したい関数の各座標における値を計算し、2次元配列に。\n",
        "\n",
        "levels = [-3, -2.9, -2.8, -2.6, -2.4, -2.2, -2, -1, 0, 1, 2, 3, 4]# 等高線として表示する関数値を指定\n",
        "plt.contour(xs, ys, z, levels = levels, colors = 'k', linestyles = 'dotted')\n",
        "\n",
        "plt.show()\n"
      ],
      "metadata": {
        "colab": {
          "base_uri": "https://localhost:8080/",
          "height": 304
        },
        "id": "yJC2PEqdi4Fv",
        "outputId": "8e11ecbb-2f16-4fde-9907-39cda5a355d0"
      },
      "execution_count": null,
      "outputs": [
        {
          "output_type": "stream",
          "name": "stdout",
          "text": [
            "[3.45722846e-07 1.00000048e+00]\n",
            "-2.9999999999997073\n"
          ]
        },
        {
          "output_type": "display_data",
          "data": {
            "text/plain": [
              "<Figure size 432x288 with 1 Axes>"
            ],
            "image/png": "[encoded data removed]"
          },
          "metadata": {
            "needs_background": "light"
          }
        }
      ]
    },
    {
      "cell_type": "markdown",
      "source": [
        "# ニュートン法"
      ],
      "metadata": {
        "id": "1e7J1M62je8g"
      }
    },
    {
      "cell_type": "markdown",
      "source": [
        "制約条件なしでの多次元関数が0になる方程式の数値的解法"
      ],
      "metadata": {
        "id": "zJStKCVTS04X"
      }
    },
    {
      "cell_type": "markdown",
      "source": [
        "1次元の場合"
      ],
      "metadata": {
        "id": "P8yzF98uQHyr"
      }
    },
    {
      "cell_type": "code",
      "source": [
        "# x^3 - 5x + 1 = 0 を求める\n",
        "\n",
        "# ニュートン法の実装\n",
        "def newton1dim(f, df, x0, eps=1e-10, max_iter=1000):\n",
        "  # 解を求めたい関数f, その導関数, 変数の初期値、収束条件に使うε, 無限ループする可能性を見越した最大繰り返し回数max_iter を引数とする。\n",
        "  x = x0\n",
        "  iter = 0\n",
        "\n",
        "  while True:\n",
        "    x_new = x - f(x)/df(x) #傾きから得られる次の変数\n",
        "    # 条件式の終了条件/収束条件\n",
        "    if abs(x-x_new) < eps:\n",
        "      break\n",
        "    # 変数の更新と繰り返し数の記録\n",
        "    x = x_new\n",
        "    iter += 1\n",
        "    # 条件式の終了条件/繰り返し数による\n",
        "    if iter == max_iter:\n",
        "      break\n",
        "    \n",
        "    return x_new\n",
        "\n",
        "# 解を求めたい関数f\n",
        "def f(x):\n",
        "  return x**3 - 5*x + 1\n",
        "\n",
        "# その導関数\n",
        "def df(x):\n",
        "  return 3*x**2 - 5\n",
        "\n",
        "# 実装したニュートン法の実行\n",
        "print(newton1dim(f, df, 2))\n",
        "print(newton1dim(f, df, 0))\n",
        "print(newton1dim(f, df, -3))"
      ],
      "metadata": {
        "id": "HrydLRVDi7Il",
        "colab": {
          "base_uri": "https://localhost:8080/"
        },
        "outputId": "9c872cc8-3398-43c2-a325-bc93a38bc4be"
      },
      "execution_count": null,
      "outputs": [
        {
          "output_type": "stream",
          "name": "stdout",
          "text": [
            "2.142857142857143\n",
            "0.2\n",
            "-2.5\n"
          ]
        }
      ]
    },
    {
      "cell_type": "markdown",
      "source": [
        "多次元の場合"
      ],
      "metadata": {
        "id": "E1nlPuFhQMHh"
      }
    },
    {
      "cell_type": "code",
      "source": [
        "#ニュートン法の実装\n",
        "\n",
        "import numpy as np\n",
        "from numpy import linalg\n",
        "\n",
        "\n",
        "class Newton:\n",
        "#初期値の設定\n",
        "  def __init__ (self, f, df, eps=1e-10, max_iter=1000):\n",
        "    self.f = f\n",
        "    self.df = df\n",
        "    self.eps = eps\n",
        "    self.max_iter = max_iter\n",
        "\n",
        "#ニュートン法のアルゴリズム\n",
        "  def solve(self, x0):\n",
        "    x = x0\n",
        "    iter = 0\n",
        "    self.path_ = x0.reshape(1, -1)\n",
        "\n",
        "    while True:\n",
        "      x_new = x - np.dot(linalg.inv(self.df(x)), self.f(x)) # xの更新式。導関数の逆行列と関数の内積をnp.dotで計算\n",
        "      self.path_ = np.r_[self.path_, x_new.reshape(1, -1)] # 描画用のプロット\n",
        "      if ((x_new - x)**2).sum() < self.eps*self.eps :# 収束条件て一次元は絶対値、2次元以上は二乗で示してるイメージ\n",
        "        break\n",
        "      x = x_new\n",
        "      iter += iter # 変数の更新と繰り返し数の記録\n",
        "      if iter == self.max_iter: # 条件式の終了条件/繰り返し数による\n",
        "        break\n",
        "    return x_new"
      ],
      "metadata": {
        "id": "iNyZkhJn7MEl"
      },
      "execution_count": null,
      "outputs": []
    },
    {
      "cell_type": "code",
      "source": [
        "# x^3 - 2y = 0, x^2 + y^2 - 1 = 0の連立方程式を解く\n",
        "import numpy as np\n",
        "import matplotlib.pyplot as plt\n",
        "\n",
        "#一つ目の関数値\n",
        "def f1(x, y):\n",
        "  return x**3 - 2 * y\n",
        "\n",
        "#二つ目の関数値\n",
        "def f2(x, y):\n",
        "  return x**2 + y**2 - 1\n",
        "\n",
        "#上の二つの関数値をまとめて配列にする\n",
        "def f(xx):\n",
        "  x = xx[0]\n",
        "  y = xx[1]\n",
        "  return np.array([f1(x, y), f2(x, y)])\n",
        "\n",
        "#導関数\n",
        "def df(xx):\n",
        "  x = xx[0]\n",
        "  y = xx[1]\n",
        "  return np.array([[3*x**2, -2], [2*x, 2*y]])\n",
        "\n",
        "#等高線の作成\n",
        "xmin, xmax, ymin, ymax = -3, 3, -3, 3\n",
        "plt.xlim(xmin, xmax)\n",
        "plt.ylim(ymin, ymax)\n",
        "x = np.linspace(xmin, xmax, 200)\n",
        "y = np.linspace(ymin, ymax, 200)\n",
        "xmesh, ymesh = np.meshgrid(x, y)\n",
        "z1 = f1(xmesh, ymesh)\n",
        "z2 = f2(xmesh, ymesh)\n",
        "plt.contour(xmesh, ymesh, z1, colors=\"k\", levels=[0])\n",
        "plt.contour(xmesh, ymesh, z2, colors=\"K\", levels=[0])\n",
        "#インスタンスの生成\n",
        "solver = Newton(f, df)\n",
        "\n",
        "#初期値と散布図プロット（収束の軌跡）の柄の指定\n",
        "initial =[np.array([1, 1]),\n",
        "        np.array([1, -1]),\n",
        "        np.array([-1, -1])]\n",
        "markers = ['+', '*', 'x']\n",
        "\n",
        "#ニュートン法の実行　と　軌跡のプロット\n",
        "for x0, m in zip(initial, markers):\n",
        "  sol = solver.solve(x0)\n",
        "  print(sol)\n",
        "  plt.scatter(solver.path_[:, 0],solver.path_[:, 1], color=\"k\", marker=m)\n",
        "\n",
        "plt.show()\n",
        "\n"
      ],
      "metadata": {
        "colab": {
          "base_uri": "https://localhost:8080/",
          "height": 321
        },
        "id": "gdhYIxCG7PiK",
        "outputId": "ac8ec74c-2001-4b3d-eb19-44217919705e"
      },
      "execution_count": null,
      "outputs": [
        {
          "output_type": "stream",
          "name": "stdout",
          "text": [
            "[0.92071038 0.39024659]\n",
            "[-0.92071038 -0.39024659]\n",
            "[-0.92071038 -0.39024659]\n"
          ]
        },
        {
          "output_type": "display_data",
          "data": {
            "text/plain": [
              "<Figure size 432x288 with 1 Axes>"
            ],
            "image/png": "[encoded data removed]"
          },
          "metadata": {
            "needs_background": "light"
          }
        }
      ]
    },
    {
      "cell_type": "markdown",
      "source": [
        "# 統計"
      ],
      "metadata": {
        "id": "3z-nkkdsSU_U"
      }
    },
    {
      "cell_type": "code",
      "source": [],
      "metadata": {
        "id": "4zfByrGs7Pm_"
      },
      "execution_count": null,
      "outputs": []
    },
    {
      "cell_type": "code",
      "source": [],
      "metadata": {
        "id": "B1KgmTxx7PpU"
      },
      "execution_count": null,
      "outputs": []
    },
    {
      "cell_type": "code",
      "source": [],
      "metadata": {
        "id": "A9gX-NIc7Prk"
      },
      "execution_count": null,
      "outputs": []
    },
    {
      "cell_type": "code",
      "source": [],
      "metadata": {
        "id": "MlKW3NSb7Pt6"
      },
      "execution_count": null,
      "outputs": []
    },
    {
      "cell_type": "code",
      "source": [],
      "metadata": {
        "id": "cr7ahZed7PwJ"
      },
      "execution_count": null,
      "outputs": []
    },
    {
      "cell_type": "code",
      "source": [],
      "metadata": {
        "id": "hG3OfLxY7Pye"
      },
      "execution_count": null,
      "outputs": []
    },
    {
      "cell_type": "code",
      "source": [],
      "metadata": {
        "id": "3UEn2FNn7P0n"
      },
      "execution_count": null,
      "outputs": []
    },
    {
      "cell_type": "code",
      "source": [],
      "metadata": {
        "id": "PX0GyYwv7P3T"
      },
      "execution_count": null,
      "outputs": []
    },
    {
      "cell_type": "code",
      "source": [],
      "metadata": {
        "id": "eitVhCMB7P5n"
      },
      "execution_count": null,
      "outputs": []
    },
    {
      "cell_type": "code",
      "source": [],
      "metadata": {
        "id": "5l9Nofz87P72"
      },
      "execution_count": null,
      "outputs": []
    },
    {
      "cell_type": "code",
      "source": [],
      "metadata": {
        "id": "J_5inHBH7P-b"
      },
      "execution_count": null,
      "outputs": []
    },
    {
      "cell_type": "code",
      "source": [],
      "metadata": {
        "id": "_1w3M8UP7QAw"
      },
      "execution_count": null,
      "outputs": []
    },
    {
      "cell_type": "code",
      "source": [],
      "metadata": {
        "id": "rB5CLGBI7QDI"
      },
      "execution_count": null,
      "outputs": []
    },
    {
      "cell_type": "code",
      "source": [],
      "metadata": {
        "id": "MUbuh9J17QGR"
      },
      "execution_count": null,
      "outputs": []
    },
    {
      "cell_type": "code",
      "source": [],
      "metadata": {
        "id": "PhcG8pka7QH0"
      },
      "execution_count": null,
      "outputs": []
    },
    {
      "cell_type": "code",
      "source": [],
      "metadata": {
        "id": "uRyd7HrJ7QKY"
      },
      "execution_count": null,
      "outputs": []
    },
    {
      "cell_type": "code",
      "source": [],
      "metadata": {
        "id": "x8E5Ebdj7QMt"
      },
      "execution_count": null,
      "outputs": []
    },
    {
      "cell_type": "code",
      "source": [],
      "metadata": {
        "id": "613UWROU7QPX"
      },
      "execution_count": null,
      "outputs": []
    },
    {
      "cell_type": "code",
      "source": [],
      "metadata": {
        "id": "iwyslyUF7QRK"
      },
      "execution_count": null,
      "outputs": []
    },
    {
      "cell_type": "code",
      "source": [],
      "metadata": {
        "id": "gKc1zcUC7QTu"
      },
      "execution_count": null,
      "outputs": []
    },
    {
      "cell_type": "code",
      "source": [],
      "metadata": {
        "id": "Ft1PckTG7QWH"
      },
      "execution_count": null,
      "outputs": []
    },
    {
      "cell_type": "code",
      "source": [],
      "metadata": {
        "id": "0C5CNWg77QY9"
      },
      "execution_count": null,
      "outputs": []
    }
  ]
}