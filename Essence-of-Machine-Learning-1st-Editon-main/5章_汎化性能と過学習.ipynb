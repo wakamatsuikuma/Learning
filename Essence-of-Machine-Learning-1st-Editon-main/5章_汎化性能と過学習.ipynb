{
  "nbformat": 4,
  "nbformat_minor": 0,
  "metadata": {
    "colab": {
      "provenance": [],
      "collapsed_sections": [],
      "authorship_tag": "ABX9TyOFdsKM5ExMNbZKaApHvlo+",
      "include_colab_link": true
    },
    "kernelspec": {
      "name": "python3",
      "display_name": "Python 3"
    },
    "language_info": {
      "name": "python"
    }
  },
  "cells": [
    {
      "cell_type": "markdown",
      "metadata": {
        "id": "view-in-github",
        "colab_type": "text"
      },
      "source": [
        "<a href=\"https://colab.research.google.com/github/wakamatsuikuma/Essence-of-Machine-Learning-1st-Editon/blob/main/5%E7%AB%A0_%E6%B1%8E%E5%8C%96%E6%80%A7%E8%83%BD%E3%81%A8%E9%81%8E%E5%AD%A6%E7%BF%92.ipynb\" target=\"_parent\"><img src=\"https://colab.research.google.com/assets/colab-badge.svg\" alt=\"Open In Colab\"/></a>"
      ]
    },
    {
      "cell_type": "markdown",
      "source": [
        "多項式回帰と線形回帰との差"
      ],
      "metadata": {
        "id": "W-JOqAVSM_fw"
      }
    },
    {
      "cell_type": "code",
      "source": [
        "#線形回帰アルゴリズムの実装\n",
        "import numpy as np\n",
        "from scipy import linalg\n",
        "\n",
        "#fitで学習して、predictで予測というクラスにする\n",
        "#定数項は追加する\n",
        "#fitの引数を説明変数と目的変数にする\n",
        "#fitでの学習結果　= 重みw をコンストラクタのデータ属性に格納する\n",
        "#predictの引数は説明変数にする\n",
        "\n",
        "class LinearRegression:\n",
        "  def __init__(self):\n",
        "    self.w_ = None\n",
        "  \n",
        "  def fit(self, X, t):\n",
        "    Xtil = np.c_[np.ones(X.shape[0]), X]\n",
        "    A = np.dot(Xtil.T, Xtil)\n",
        "    b = np.dot(Xtil.T, t)\n",
        "    self.w_ = linalg.solve(A, b)\n",
        "  \n",
        "  def predict(self, X):\n",
        "    if X.ndim == 1:\n",
        "      X = X.reshape(1, -1)\n",
        "    Xtil = np.c_[np.ones(X.shape[0]), X]\n",
        "    return np.dot(Xtil, self.w_)\n",
        "  "
      ],
      "metadata": {
        "id": "cljB6HVBNBwn"
      },
      "execution_count": null,
      "outputs": []
    },
    {
      "cell_type": "code",
      "source": [
        "# 多項式回帰の実装\n",
        "import numpy as np\n",
        "\n",
        "class PolynomialRegression:\n",
        "  def __init__(self, degree):\n",
        "    self.degree_ = degree\n",
        "  \n",
        "  def fit(self, x, y):\n",
        "   \n",
        "    xx = x.reshape(len(x), 1)\n",
        "    x_pow = []\n",
        "    for i in range(1, self.degree_ + 1):\n",
        "      x_pow.append(xx**i)\n",
        "    mat = np.concatenate(x_pow, axis=1)\n",
        "\n",
        "    linreg = LinearRegression()\n",
        "    linreg.fit(mat, y)\n",
        "    self.w_ = linreg.w_\n",
        "  \n",
        "  def predict(self, x):\n",
        "    r = 0\n",
        "    for i in range(self.degree_ + 1):\n",
        "      r += x**i * self.w_[i]\n",
        "    return r "
      ],
      "metadata": {
        "id": "Tbk1j2-HNBz_"
      },
      "execution_count": null,
      "outputs": []
    },
    {
      "cell_type": "code",
      "source": [
        "# 実行　線形回帰の描画を多項式回帰と同様にしてみる\n",
        "import numpy as np\n",
        "import matplotlib.pyplot as plt\n",
        "\n",
        "#データ生成\n",
        "np.random.seed(0)\n",
        "\n",
        "def f(x):\n",
        "  return 1 + 2 * x\n",
        "\n",
        "x = np.random.random(10)*10\n",
        "y = f(x) + np.random.randn(10)\n",
        "\n",
        "#訓練データのプロット\n",
        "plt.scatter(x, y, color='k')\n",
        "\n",
        "#多項式回帰\n",
        "model = PolynomialRegression(10)\n",
        "model.fit(x, y)\n",
        "plt.ylim([y.min() - 1, y.max() + 1])\n",
        "x_polyR = np.linspace(x.min(), x.max(), 300)\n",
        "y_polyR = np.array([model.predict(u) for u in x_polyR])\n",
        "plt.plot(x_polyR, y_polyR, color='k')\n",
        "\n",
        "\n",
        "#線形回帰\n",
        "model = LinearRegression()\n",
        "model.fit(x, y)\n",
        "b, a = model.w_\n",
        "x_min = x.min()-1\n",
        "x_max = x.max()+1\n",
        "plt.plot([x_min, x_max], [a * x_min + b, a * x_max + b], color=\"k\", linestyle=\"dashed\")\n",
        "\n",
        "plt.show()"
      ],
      "metadata": {
        "colab": {
          "base_uri": "https://localhost:8080/",
          "height": 282
        },
        "id": "VRcwG_Y-NB2V",
        "outputId": "22de6c29-d140-4970-b28f-8f203dfd7104"
      },
      "execution_count": null,
      "outputs": [
        {
          "output_type": "stream",
          "name": "stderr",
          "text": [
            "/usr/local/lib/python3.7/dist-packages/ipykernel_launcher.py:19: LinAlgWarning: Ill-conditioned matrix (rcond=1.30031e-30): result may not be accurate.\n"
          ]
        },
        {
          "output_type": "display_data",
          "data": {
            "text/plain": [
              "<Figure size 432x288 with 1 Axes>"
            ],
            "image/png": "[encoded data removed]"
          },
          "metadata": {
            "needs_background": "light"
          }
        }
      ]
    },
    {
      "cell_type": "markdown",
      "source": [
        "モデルの汎化性能"
      ],
      "metadata": {
        "id": "6xNnVM8ENRyE"
      }
    },
    {
      "cell_type": "code",
      "source": [
        "import numpy as np\n",
        "import matplotlib.pyplot as plt\n",
        "import warnings\n",
        "warnings.filterwarnings(\"ignore\")\n",
        "\n",
        "#線形回帰アルゴリズムの実装\n",
        "import numpy as np\n",
        "from scipy import linalg\n",
        "\n",
        "#fitで学習して、predictで予測というクラスにする\n",
        "#定数項は追加する\n",
        "#fitの引数を説明変数と目的変数にする\n",
        "#fitでの学習結果　= 重みw をコンストラクタのデータ属性に格納する\n",
        "#predictの引数は説明変数にする\n",
        "\n",
        "class LinearRegression:\n",
        "  def __init__(self):\n",
        "    self.w_ = None\n",
        "  \n",
        "  def fit(self, X, t):\n",
        "    Xtil = np.c_[np.ones(X.shape[0]), X]\n",
        "    A = np.dot(Xtil.T, Xtil)\n",
        "    b = np.dot(Xtil.T, t)\n",
        "    self.w_ = linalg.solve(A, b)\n",
        "  \n",
        "  def predict(self, X):\n",
        "    if X.ndim == 1:\n",
        "      X = X.reshape(1, -1)\n",
        "    Xtil = np.c_[np.ones(X.shape[0]), X]\n",
        "    return np.dot(Xtil, self.w_)\n",
        "  \n",
        "  # 多項式回帰の実装\n",
        "import numpy as np\n",
        "\n",
        "class PolynomialRegression:\n",
        "  def __init__(self, degree):\n",
        "    self.degree_ = degree\n",
        "  \n",
        "  def fit(self, x, y):\n",
        "   \n",
        "    xx = x.reshape(len(x), 1)\n",
        "    x_pow = []\n",
        "    for i in range(1, self.degree_ + 1):\n",
        "      x_pow.append(xx**i)\n",
        "    mat = np.concatenate(x_pow, axis=1)\n",
        "\n",
        "    linreg = LinearRegression()\n",
        "    linreg.fit(mat, y)\n",
        "    self.w_ = linreg.w_\n",
        "  \n",
        "  def predict(self, x):\n",
        "    r = 0\n",
        "    for i in range(self.degree_ + 1):\n",
        "      r += x**i * self.w_[i]\n",
        "    return r "
      ],
      "metadata": {
        "id": "jUsrnKozNB43"
      },
      "execution_count": null,
      "outputs": []
    },
    {
      "cell_type": "code",
      "source": [
        "# 線形回帰と多項式回帰の予測値のフィット具合を確認\n",
        "# 予測値を10万足して、その平均値を描画する＝実験的にバイアスの大きさが可視化できる\n",
        "\n",
        "\n",
        "# 予測する関数の定義\n",
        "def f(x):\n",
        "  return 1 / (1 + x)\n",
        "\n",
        "# モデル学習用のプロットデータの生成\n",
        "def sample(n):\n",
        "  x = np.random.random(n) * 5\n",
        "  y = f(x)\n",
        "  return x, y\n",
        "\n",
        "# モデル検証用の説明変数生成\n",
        "x_test = np.arange(0, 5, 0.01)\n",
        "\n",
        "\n",
        "np.random.seed(99)\n",
        "\n",
        "\n",
        "\n",
        "# 予測値の和を足していく用の配列生成\n",
        "y_poly_sum = np.zeros(len(x_test))\n",
        "y_lin_sum = np.zeros(len(x_test))\n",
        "\n",
        "# 各モデルでの予測値和を計算\n",
        "n = 100000\n",
        "\n",
        "for _ in range(n):\n",
        "   x, y = sample(5) # 学習データ生成\n",
        "   model_poly = PolynomialRegression(4)\n",
        "   model_poly.fit(x, y) # 多項式回帰モデルで学習\n",
        "   model_lin = LinearRegression()\n",
        "   model_lin.fit(x, y) # 線形回帰モデルで学習\n",
        "   # 各モデルでの予測値和を計算\n",
        "   y_poly = model_poly.predict(x_test)\n",
        "   y_poly_sum += y_poly\n",
        "   y_lin = model_lin.predict(x_test.reshape(-1, 1))\n",
        "   y_lin_sum += y_lin\n",
        "\n",
        "plt.plot(x_test, f(x_test), label=\"truth\", color=\"k\", linestyle=\"solid\")\n",
        "plt.plot(x_test, y_poly_sum / n, label=\"polynominal_reg\", color=\"k\", linestyle=\"dotted\")\n",
        "plt.plot(x_test, y_lin_sum / n, label=\"liner_reg\", color=\"k\", linestyle=\"dashed\")\n",
        "\n",
        "plt.legend()\n",
        "plt.show()\n",
        "\n",
        "\n",
        "\"\"\"\n",
        "jupyter notebookではエラー出なかった\n",
        "\"\"\""
      ],
      "metadata": {
        "colab": {
          "base_uri": "https://localhost:8080/",
          "height": 384
        },
        "id": "ksIcyHmrNCHc",
        "outputId": "7a399fed-605c-4241-aa56-069941b2cf5b"
      },
      "execution_count": null,
      "outputs": [
        {
          "output_type": "error",
          "ename": "LinAlgError",
          "evalue": "ignored",
          "traceback": [
            "\u001b[0;31m---------------------------------------------------------------------------\u001b[0m",
            "\u001b[0;31mLinAlgError\u001b[0m                               Traceback (most recent call last)",
            "\u001b[0;32m<ipython-input-19-ef08b22f86f0>\u001b[0m in \u001b[0;36m<module>\u001b[0;34m\u001b[0m\n\u001b[1;32m     30\u001b[0m    \u001b[0mx\u001b[0m\u001b[0;34m,\u001b[0m \u001b[0my\u001b[0m \u001b[0;34m=\u001b[0m \u001b[0msample\u001b[0m\u001b[0;34m(\u001b[0m\u001b[0;36m5\u001b[0m\u001b[0;34m)\u001b[0m \u001b[0;31m# 学習データ生成\u001b[0m\u001b[0;34m\u001b[0m\u001b[0;34m\u001b[0m\u001b[0m\n\u001b[1;32m     31\u001b[0m    \u001b[0mmodel_poly\u001b[0m \u001b[0;34m=\u001b[0m \u001b[0mPolynomialRegression\u001b[0m\u001b[0;34m(\u001b[0m\u001b[0;36m4\u001b[0m\u001b[0;34m)\u001b[0m\u001b[0;34m\u001b[0m\u001b[0;34m\u001b[0m\u001b[0m\n\u001b[0;32m---> 32\u001b[0;31m    \u001b[0mmodel_poly\u001b[0m\u001b[0;34m.\u001b[0m\u001b[0mfit\u001b[0m\u001b[0;34m(\u001b[0m\u001b[0mx\u001b[0m\u001b[0;34m,\u001b[0m \u001b[0my\u001b[0m\u001b[0;34m)\u001b[0m \u001b[0;31m# 多項式回帰モデルで学習\u001b[0m\u001b[0;34m\u001b[0m\u001b[0;34m\u001b[0m\u001b[0m\n\u001b[0m\u001b[1;32m     33\u001b[0m    \u001b[0mmodel_lin\u001b[0m \u001b[0;34m=\u001b[0m \u001b[0mLinearRegression\u001b[0m\u001b[0;34m(\u001b[0m\u001b[0;34m)\u001b[0m\u001b[0;34m\u001b[0m\u001b[0;34m\u001b[0m\u001b[0m\n\u001b[1;32m     34\u001b[0m    \u001b[0mmodel_lin\u001b[0m\u001b[0;34m.\u001b[0m\u001b[0mfit\u001b[0m\u001b[0;34m(\u001b[0m\u001b[0mx\u001b[0m\u001b[0;34m,\u001b[0m \u001b[0my\u001b[0m\u001b[0;34m)\u001b[0m \u001b[0;31m# 線形回帰モデルで学習\u001b[0m\u001b[0;34m\u001b[0m\u001b[0;34m\u001b[0m\u001b[0m\n",
            "\u001b[0;32m<ipython-input-13-0d1d4061bcd4>\u001b[0m in \u001b[0;36mfit\u001b[0;34m(self, x, y)\u001b[0m\n\u001b[1;32m     46\u001b[0m \u001b[0;34m\u001b[0m\u001b[0m\n\u001b[1;32m     47\u001b[0m     \u001b[0mlinreg\u001b[0m \u001b[0;34m=\u001b[0m \u001b[0mLinearRegression\u001b[0m\u001b[0;34m(\u001b[0m\u001b[0;34m)\u001b[0m\u001b[0;34m\u001b[0m\u001b[0;34m\u001b[0m\u001b[0m\n\u001b[0;32m---> 48\u001b[0;31m     \u001b[0mlinreg\u001b[0m\u001b[0;34m.\u001b[0m\u001b[0mfit\u001b[0m\u001b[0;34m(\u001b[0m\u001b[0mmat\u001b[0m\u001b[0;34m,\u001b[0m \u001b[0my\u001b[0m\u001b[0;34m)\u001b[0m\u001b[0;34m\u001b[0m\u001b[0;34m\u001b[0m\u001b[0m\n\u001b[0m\u001b[1;32m     49\u001b[0m     \u001b[0mself\u001b[0m\u001b[0;34m.\u001b[0m\u001b[0mw_\u001b[0m \u001b[0;34m=\u001b[0m \u001b[0mlinreg\u001b[0m\u001b[0;34m.\u001b[0m\u001b[0mw_\u001b[0m\u001b[0;34m\u001b[0m\u001b[0;34m\u001b[0m\u001b[0m\n\u001b[1;32m     50\u001b[0m \u001b[0;34m\u001b[0m\u001b[0m\n",
            "\u001b[0;32m<ipython-input-13-0d1d4061bcd4>\u001b[0m in \u001b[0;36mfit\u001b[0;34m(self, X, t)\u001b[0m\n\u001b[1;32m     22\u001b[0m     \u001b[0mA\u001b[0m \u001b[0;34m=\u001b[0m \u001b[0mnp\u001b[0m\u001b[0;34m.\u001b[0m\u001b[0mdot\u001b[0m\u001b[0;34m(\u001b[0m\u001b[0mXtil\u001b[0m\u001b[0;34m.\u001b[0m\u001b[0mT\u001b[0m\u001b[0;34m,\u001b[0m \u001b[0mXtil\u001b[0m\u001b[0;34m)\u001b[0m\u001b[0;34m\u001b[0m\u001b[0;34m\u001b[0m\u001b[0m\n\u001b[1;32m     23\u001b[0m     \u001b[0mb\u001b[0m \u001b[0;34m=\u001b[0m \u001b[0mnp\u001b[0m\u001b[0;34m.\u001b[0m\u001b[0mdot\u001b[0m\u001b[0;34m(\u001b[0m\u001b[0mXtil\u001b[0m\u001b[0;34m.\u001b[0m\u001b[0mT\u001b[0m\u001b[0;34m,\u001b[0m \u001b[0mt\u001b[0m\u001b[0;34m)\u001b[0m\u001b[0;34m\u001b[0m\u001b[0;34m\u001b[0m\u001b[0m\n\u001b[0;32m---> 24\u001b[0;31m     \u001b[0mself\u001b[0m\u001b[0;34m.\u001b[0m\u001b[0mw_\u001b[0m \u001b[0;34m=\u001b[0m \u001b[0mlinalg\u001b[0m\u001b[0;34m.\u001b[0m\u001b[0msolve\u001b[0m\u001b[0;34m(\u001b[0m\u001b[0mA\u001b[0m\u001b[0;34m,\u001b[0m \u001b[0mb\u001b[0m\u001b[0;34m)\u001b[0m\u001b[0;34m\u001b[0m\u001b[0;34m\u001b[0m\u001b[0m\n\u001b[0m\u001b[1;32m     25\u001b[0m \u001b[0;34m\u001b[0m\u001b[0m\n\u001b[1;32m     26\u001b[0m   \u001b[0;32mdef\u001b[0m \u001b[0mpredict\u001b[0m\u001b[0;34m(\u001b[0m\u001b[0mself\u001b[0m\u001b[0;34m,\u001b[0m \u001b[0mX\u001b[0m\u001b[0;34m)\u001b[0m\u001b[0;34m:\u001b[0m\u001b[0;34m\u001b[0m\u001b[0;34m\u001b[0m\u001b[0m\n",
            "\u001b[0;32m/usr/local/lib/python3.7/dist-packages/scipy/linalg/basic.py\u001b[0m in \u001b[0;36msolve\u001b[0;34m(a, b, sym_pos, lower, overwrite_a, overwrite_b, debug, check_finite, assume_a, transposed)\u001b[0m\n\u001b[1;32m    217\u001b[0m                                                (a1, b1))\n\u001b[1;32m    218\u001b[0m         \u001b[0mlu\u001b[0m\u001b[0;34m,\u001b[0m \u001b[0mipvt\u001b[0m\u001b[0;34m,\u001b[0m \u001b[0minfo\u001b[0m \u001b[0;34m=\u001b[0m \u001b[0mgetrf\u001b[0m\u001b[0;34m(\u001b[0m\u001b[0ma1\u001b[0m\u001b[0;34m,\u001b[0m \u001b[0moverwrite_a\u001b[0m\u001b[0;34m=\u001b[0m\u001b[0moverwrite_a\u001b[0m\u001b[0;34m)\u001b[0m\u001b[0;34m\u001b[0m\u001b[0;34m\u001b[0m\u001b[0m\n\u001b[0;32m--> 219\u001b[0;31m         \u001b[0m_solve_check\u001b[0m\u001b[0;34m(\u001b[0m\u001b[0mn\u001b[0m\u001b[0;34m,\u001b[0m \u001b[0minfo\u001b[0m\u001b[0;34m)\u001b[0m\u001b[0;34m\u001b[0m\u001b[0;34m\u001b[0m\u001b[0m\n\u001b[0m\u001b[1;32m    220\u001b[0m         x, info = getrs(lu, ipvt, b1,\n\u001b[1;32m    221\u001b[0m                         trans=trans, overwrite_b=overwrite_b)\n",
            "\u001b[0;32m/usr/local/lib/python3.7/dist-packages/scipy/linalg/basic.py\u001b[0m in \u001b[0;36m_solve_check\u001b[0;34m(n, info, lamch, rcond)\u001b[0m\n\u001b[1;32m     27\u001b[0m                          '.'.format(-info))\n\u001b[1;32m     28\u001b[0m     \u001b[0;32melif\u001b[0m \u001b[0;36m0\u001b[0m \u001b[0;34m<\u001b[0m \u001b[0minfo\u001b[0m\u001b[0;34m:\u001b[0m\u001b[0;34m\u001b[0m\u001b[0;34m\u001b[0m\u001b[0m\n\u001b[0;32m---> 29\u001b[0;31m         \u001b[0;32mraise\u001b[0m \u001b[0mLinAlgError\u001b[0m\u001b[0;34m(\u001b[0m\u001b[0;34m'Matrix is singular.'\u001b[0m\u001b[0;34m)\u001b[0m\u001b[0;34m\u001b[0m\u001b[0;34m\u001b[0m\u001b[0m\n\u001b[0m\u001b[1;32m     30\u001b[0m \u001b[0;34m\u001b[0m\u001b[0m\n\u001b[1;32m     31\u001b[0m     \u001b[0;32mif\u001b[0m \u001b[0mlamch\u001b[0m \u001b[0;32mis\u001b[0m \u001b[0;32mNone\u001b[0m\u001b[0;34m:\u001b[0m\u001b[0;34m\u001b[0m\u001b[0;34m\u001b[0m\u001b[0m\n",
            "\u001b[0;31mLinAlgError\u001b[0m: Matrix is singular."
          ]
        }
      ]
    },
    {
      "cell_type": "code",
      "source": [
        "# バイアスとバリアンスの図示\n",
        "# 線形回帰と多項式回帰の予測値のフィット具合を確認\n",
        "# 予測値を10万足して、その平均値を描画する＝実験的にバイアスの大きさが可視化できる\n",
        "\n",
        "\n",
        "# 予測する関数の定義\n",
        "def f(x):\n",
        "    return 1 / (1 + x)\n",
        "\n",
        "# モデル学習用のプロットデータの生成\n",
        "def sample(n):\n",
        "    x = np.random.random(n) * 5\n",
        "    y = f(x)\n",
        "    return x, y\n",
        "\n",
        "# モデル検証用の説明変数生成\n",
        "x_test = np.arange(0, 5, 0.01)\n",
        "\n",
        "\n",
        "np.random.seed(99)\n",
        "\n",
        "\n",
        "\n",
        "# 予測値を足していく用と予測値- 真値の差の2乗の和を足していく用の配列生成\n",
        "y_poly_sum = np.zeros(len(x_test))\n",
        "y_poly_sum_sqt = np.zeros(len(x_test))\n",
        "y_lin_sum = np.zeros(len(x_test))\n",
        "y_lin_sum_sqt = np.zeros(len(x_test))\n",
        "\n",
        "y_true = f(x_test)\n",
        "\n",
        "# 各モデルでの予測値和を計算\n",
        "n = 100000\n",
        "\n",
        "for _ in range(n):\n",
        "    x, y = sample(5) # 学習データ生成\n",
        "    model_poly = PolynomialRegression(4)\n",
        "    model_poly.fit(x, y) # 多項式回帰モデルで学習\n",
        "    model_lin = LinearRegression()\n",
        "    model_lin.fit(x, y) # 線形回帰モデルで学習\n",
        "    # 各モデルでの予測値和を計算\n",
        "    y_poly = model_poly.predict(x_test)\n",
        "    y_poly_sum += y_poly\n",
        "    y_poly_sum_sqt += (y_poly - y_true)**2\n",
        "    y_lin = model_lin.predict(x_test.reshape(-1, 1))\n",
        "    y_lin_sum += y_lin\n",
        "    y_lin_sum_sqt += (y_lin - y_true)**2\n",
        "\n",
        "fig = plt.figure()\n",
        "ax1 = fig.add_subplot(121)\n",
        "ax2 = fig.add_subplot(122)\n",
        "\n",
        "ax1.set_title(\"Liner reg.\")\n",
        "ax2.set_title(\"Polynominal reg.\")\n",
        "\n",
        "ax1.set_ylim(0, 1)\n",
        "ax2.set_ylim(0, 1)\n",
        "\n",
        "ax1.fill_between(x_test, 0 , (y_lin_sum/n - y_true)**2, color=\"0.2\", label=\"bias\" )\n",
        "ax1.fill_between(x_test, (y_lin_sum/n - y_true)**2 ,y_lin_sum_sqt / n , color=\"0.7\", label=\"variance\" )#試行回数が多いから、予測値の平均＝y_true(真値)としている？\n",
        "ax1.legend(loc=\"upper left\")\n",
        "\n",
        "ax2.fill_between(x_test, 0 , (y_poly_sum/n - y_true)**2, color=\"0.2\", label=\"bias\" )\n",
        "ax2.fill_between(x_test, (y_poly_sum/n - y_true)**2 , y_poly_sum_sqt / n , color=\"0.7\", label=\"variance\" )\n",
        "ax2.legend(loc=\"upper left\")\n",
        "\n",
        "\n",
        "plt.show()\n",
        "\n",
        "\n",
        "\"\"\"\n",
        "jupyter notebookではエラー出なかった\n",
        "\"\"\""
      ],
      "metadata": {
        "colab": {
          "base_uri": "https://localhost:8080/",
          "height": 384
        },
        "id": "qlnqMoiqNCQl",
        "outputId": "c7fd2880-8aaa-4a1b-d3e0-44f97da80b0d"
      },
      "execution_count": null,
      "outputs": [
        {
          "output_type": "error",
          "ename": "LinAlgError",
          "evalue": "ignored",
          "traceback": [
            "\u001b[0;31m---------------------------------------------------------------------------\u001b[0m",
            "\u001b[0;31mLinAlgError\u001b[0m                               Traceback (most recent call last)",
            "\u001b[0;32m<ipython-input-21-3dd35a22e0e6>\u001b[0m in \u001b[0;36m<module>\u001b[0;34m\u001b[0m\n\u001b[1;32m     36\u001b[0m     \u001b[0mx\u001b[0m\u001b[0;34m,\u001b[0m \u001b[0my\u001b[0m \u001b[0;34m=\u001b[0m \u001b[0msample\u001b[0m\u001b[0;34m(\u001b[0m\u001b[0;36m5\u001b[0m\u001b[0;34m)\u001b[0m \u001b[0;31m# 学習データ生成\u001b[0m\u001b[0;34m\u001b[0m\u001b[0;34m\u001b[0m\u001b[0m\n\u001b[1;32m     37\u001b[0m     \u001b[0mmodel_poly\u001b[0m \u001b[0;34m=\u001b[0m \u001b[0mPolynomialRegression\u001b[0m\u001b[0;34m(\u001b[0m\u001b[0;36m4\u001b[0m\u001b[0;34m)\u001b[0m\u001b[0;34m\u001b[0m\u001b[0;34m\u001b[0m\u001b[0m\n\u001b[0;32m---> 38\u001b[0;31m     \u001b[0mmodel_poly\u001b[0m\u001b[0;34m.\u001b[0m\u001b[0mfit\u001b[0m\u001b[0;34m(\u001b[0m\u001b[0mx\u001b[0m\u001b[0;34m,\u001b[0m \u001b[0my\u001b[0m\u001b[0;34m)\u001b[0m \u001b[0;31m# 多項式回帰モデルで学習\u001b[0m\u001b[0;34m\u001b[0m\u001b[0;34m\u001b[0m\u001b[0m\n\u001b[0m\u001b[1;32m     39\u001b[0m     \u001b[0mmodel_lin\u001b[0m \u001b[0;34m=\u001b[0m \u001b[0mLinearRegression\u001b[0m\u001b[0;34m(\u001b[0m\u001b[0;34m)\u001b[0m\u001b[0;34m\u001b[0m\u001b[0;34m\u001b[0m\u001b[0m\n\u001b[1;32m     40\u001b[0m     \u001b[0mmodel_lin\u001b[0m\u001b[0;34m.\u001b[0m\u001b[0mfit\u001b[0m\u001b[0;34m(\u001b[0m\u001b[0mx\u001b[0m\u001b[0;34m,\u001b[0m \u001b[0my\u001b[0m\u001b[0;34m)\u001b[0m \u001b[0;31m# 線形回帰モデルで学習\u001b[0m\u001b[0;34m\u001b[0m\u001b[0;34m\u001b[0m\u001b[0m\n",
            "\u001b[0;32m<ipython-input-20-0d1d4061bcd4>\u001b[0m in \u001b[0;36mfit\u001b[0;34m(self, x, y)\u001b[0m\n\u001b[1;32m     46\u001b[0m \u001b[0;34m\u001b[0m\u001b[0m\n\u001b[1;32m     47\u001b[0m     \u001b[0mlinreg\u001b[0m \u001b[0;34m=\u001b[0m \u001b[0mLinearRegression\u001b[0m\u001b[0;34m(\u001b[0m\u001b[0;34m)\u001b[0m\u001b[0;34m\u001b[0m\u001b[0;34m\u001b[0m\u001b[0m\n\u001b[0;32m---> 48\u001b[0;31m     \u001b[0mlinreg\u001b[0m\u001b[0;34m.\u001b[0m\u001b[0mfit\u001b[0m\u001b[0;34m(\u001b[0m\u001b[0mmat\u001b[0m\u001b[0;34m,\u001b[0m \u001b[0my\u001b[0m\u001b[0;34m)\u001b[0m\u001b[0;34m\u001b[0m\u001b[0;34m\u001b[0m\u001b[0m\n\u001b[0m\u001b[1;32m     49\u001b[0m     \u001b[0mself\u001b[0m\u001b[0;34m.\u001b[0m\u001b[0mw_\u001b[0m \u001b[0;34m=\u001b[0m \u001b[0mlinreg\u001b[0m\u001b[0;34m.\u001b[0m\u001b[0mw_\u001b[0m\u001b[0;34m\u001b[0m\u001b[0;34m\u001b[0m\u001b[0m\n\u001b[1;32m     50\u001b[0m \u001b[0;34m\u001b[0m\u001b[0m\n",
            "\u001b[0;32m<ipython-input-20-0d1d4061bcd4>\u001b[0m in \u001b[0;36mfit\u001b[0;34m(self, X, t)\u001b[0m\n\u001b[1;32m     22\u001b[0m     \u001b[0mA\u001b[0m \u001b[0;34m=\u001b[0m \u001b[0mnp\u001b[0m\u001b[0;34m.\u001b[0m\u001b[0mdot\u001b[0m\u001b[0;34m(\u001b[0m\u001b[0mXtil\u001b[0m\u001b[0;34m.\u001b[0m\u001b[0mT\u001b[0m\u001b[0;34m,\u001b[0m \u001b[0mXtil\u001b[0m\u001b[0;34m)\u001b[0m\u001b[0;34m\u001b[0m\u001b[0;34m\u001b[0m\u001b[0m\n\u001b[1;32m     23\u001b[0m     \u001b[0mb\u001b[0m \u001b[0;34m=\u001b[0m \u001b[0mnp\u001b[0m\u001b[0;34m.\u001b[0m\u001b[0mdot\u001b[0m\u001b[0;34m(\u001b[0m\u001b[0mXtil\u001b[0m\u001b[0;34m.\u001b[0m\u001b[0mT\u001b[0m\u001b[0;34m,\u001b[0m \u001b[0mt\u001b[0m\u001b[0;34m)\u001b[0m\u001b[0;34m\u001b[0m\u001b[0;34m\u001b[0m\u001b[0m\n\u001b[0;32m---> 24\u001b[0;31m     \u001b[0mself\u001b[0m\u001b[0;34m.\u001b[0m\u001b[0mw_\u001b[0m \u001b[0;34m=\u001b[0m \u001b[0mlinalg\u001b[0m\u001b[0;34m.\u001b[0m\u001b[0msolve\u001b[0m\u001b[0;34m(\u001b[0m\u001b[0mA\u001b[0m\u001b[0;34m,\u001b[0m \u001b[0mb\u001b[0m\u001b[0;34m)\u001b[0m\u001b[0;34m\u001b[0m\u001b[0;34m\u001b[0m\u001b[0m\n\u001b[0m\u001b[1;32m     25\u001b[0m \u001b[0;34m\u001b[0m\u001b[0m\n\u001b[1;32m     26\u001b[0m   \u001b[0;32mdef\u001b[0m \u001b[0mpredict\u001b[0m\u001b[0;34m(\u001b[0m\u001b[0mself\u001b[0m\u001b[0;34m,\u001b[0m \u001b[0mX\u001b[0m\u001b[0;34m)\u001b[0m\u001b[0;34m:\u001b[0m\u001b[0;34m\u001b[0m\u001b[0;34m\u001b[0m\u001b[0m\n",
            "\u001b[0;32m/usr/local/lib/python3.7/dist-packages/scipy/linalg/basic.py\u001b[0m in \u001b[0;36msolve\u001b[0;34m(a, b, sym_pos, lower, overwrite_a, overwrite_b, debug, check_finite, assume_a, transposed)\u001b[0m\n\u001b[1;32m    217\u001b[0m                                                (a1, b1))\n\u001b[1;32m    218\u001b[0m         \u001b[0mlu\u001b[0m\u001b[0;34m,\u001b[0m \u001b[0mipvt\u001b[0m\u001b[0;34m,\u001b[0m \u001b[0minfo\u001b[0m \u001b[0;34m=\u001b[0m \u001b[0mgetrf\u001b[0m\u001b[0;34m(\u001b[0m\u001b[0ma1\u001b[0m\u001b[0;34m,\u001b[0m \u001b[0moverwrite_a\u001b[0m\u001b[0;34m=\u001b[0m\u001b[0moverwrite_a\u001b[0m\u001b[0;34m)\u001b[0m\u001b[0;34m\u001b[0m\u001b[0;34m\u001b[0m\u001b[0m\n\u001b[0;32m--> 219\u001b[0;31m         \u001b[0m_solve_check\u001b[0m\u001b[0;34m(\u001b[0m\u001b[0mn\u001b[0m\u001b[0;34m,\u001b[0m \u001b[0minfo\u001b[0m\u001b[0;34m)\u001b[0m\u001b[0;34m\u001b[0m\u001b[0;34m\u001b[0m\u001b[0m\n\u001b[0m\u001b[1;32m    220\u001b[0m         x, info = getrs(lu, ipvt, b1,\n\u001b[1;32m    221\u001b[0m                         trans=trans, overwrite_b=overwrite_b)\n",
            "\u001b[0;32m/usr/local/lib/python3.7/dist-packages/scipy/linalg/basic.py\u001b[0m in \u001b[0;36m_solve_check\u001b[0;34m(n, info, lamch, rcond)\u001b[0m\n\u001b[1;32m     27\u001b[0m                          '.'.format(-info))\n\u001b[1;32m     28\u001b[0m     \u001b[0;32melif\u001b[0m \u001b[0;36m0\u001b[0m \u001b[0;34m<\u001b[0m \u001b[0minfo\u001b[0m\u001b[0;34m:\u001b[0m\u001b[0;34m\u001b[0m\u001b[0;34m\u001b[0m\u001b[0m\n\u001b[0;32m---> 29\u001b[0;31m         \u001b[0;32mraise\u001b[0m \u001b[0mLinAlgError\u001b[0m\u001b[0;34m(\u001b[0m\u001b[0;34m'Matrix is singular.'\u001b[0m\u001b[0;34m)\u001b[0m\u001b[0;34m\u001b[0m\u001b[0;34m\u001b[0m\u001b[0m\n\u001b[0m\u001b[1;32m     30\u001b[0m \u001b[0;34m\u001b[0m\u001b[0m\n\u001b[1;32m     31\u001b[0m     \u001b[0;32mif\u001b[0m \u001b[0mlamch\u001b[0m \u001b[0;32mis\u001b[0m \u001b[0;32mNone\u001b[0m\u001b[0;34m:\u001b[0m\u001b[0;34m\u001b[0m\u001b[0;34m\u001b[0m\u001b[0m\n",
            "\u001b[0;31mLinAlgError\u001b[0m: Matrix is singular."
          ]
        }
      ]
    },
    {
      "cell_type": "code",
      "source": [],
      "metadata": {
        "id": "twy49BiuNCTd"
      },
      "execution_count": null,
      "outputs": []
    },
    {
      "cell_type": "code",
      "source": [],
      "metadata": {
        "id": "jvZIXS4pNCWJ"
      },
      "execution_count": null,
      "outputs": []
    },
    {
      "cell_type": "code",
      "source": [],
      "metadata": {
        "id": "qVmAwAk8NCYn"
      },
      "execution_count": null,
      "outputs": []
    },
    {
      "cell_type": "code",
      "source": [],
      "metadata": {
        "id": "TeXxYm0ONCbR"
      },
      "execution_count": null,
      "outputs": []
    },
    {
      "cell_type": "code",
      "source": [],
      "metadata": {
        "id": "-M7xolkENCd6"
      },
      "execution_count": null,
      "outputs": []
    },
    {
      "cell_type": "code",
      "source": [],
      "metadata": {
        "id": "Ub-ZYZBNNCiU"
      },
      "execution_count": null,
      "outputs": []
    },
    {
      "cell_type": "code",
      "source": [],
      "metadata": {
        "id": "5Pfgv8y6NCle"
      },
      "execution_count": null,
      "outputs": []
    },
    {
      "cell_type": "code",
      "source": [],
      "metadata": {
        "id": "-NeaEwMvNCoU"
      },
      "execution_count": null,
      "outputs": []
    },
    {
      "cell_type": "code",
      "source": [],
      "metadata": {
        "id": "g0jSwg30NCrc"
      },
      "execution_count": null,
      "outputs": []
    },
    {
      "cell_type": "code",
      "source": [],
      "metadata": {
        "id": "ixRrh1I-NCuD"
      },
      "execution_count": null,
      "outputs": []
    },
    {
      "cell_type": "code",
      "source": [],
      "metadata": {
        "id": "9r_MjCq7NCzR"
      },
      "execution_count": null,
      "outputs": []
    },
    {
      "cell_type": "code",
      "source": [],
      "metadata": {
        "id": "7mM0SyKoNC2H"
      },
      "execution_count": null,
      "outputs": []
    }
  ]
}